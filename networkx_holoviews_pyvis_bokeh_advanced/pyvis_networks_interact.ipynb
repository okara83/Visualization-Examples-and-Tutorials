{
 "cells": [
  {
   "cell_type": "code",
   "execution_count": null,
   "metadata": {},
   "outputs": [],
   "source": [
    "from IPython.core.display import display, HTML\n",
    "display(HTML(\"<style>.container { width:100% !important; }</style>\"))"
   ]
  },
  {
   "cell_type": "code",
   "execution_count": null,
   "metadata": {
    "ExecuteTime": {
     "end_time": "2021-08-25T18:12:06.438796Z",
     "start_time": "2021-08-25T18:12:06.295896Z"
    }
   },
   "outputs": [],
   "source": [
    "import datapane as dp \n",
    "from pyvis.network import Network\n",
    "import pandas as pd"
   ]
  },
  {
   "cell_type": "code",
   "execution_count": 3,
   "metadata": {
    "ExecuteTime": {
     "end_time": "2021-08-25T18:12:06.965773Z",
     "start_time": "2021-08-25T18:12:06.439877Z"
    }
   },
   "outputs": [],
   "source": [
    "report = []"
   ]
  },
  {
   "cell_type": "code",
   "execution_count": 4,
   "metadata": {
    "ExecuteTime": {
     "end_time": "2021-08-25T18:12:06.968695Z",
     "start_time": "2021-08-25T18:12:06.966646Z"
    }
   },
   "outputs": [],
   "source": [
    "def read_html(name: str):\n",
    "    import codecs\n",
    "    f = codecs.open(name, 'r')\n",
    "    return f.read()"
   ]
  },
  {
   "cell_type": "markdown",
   "metadata": {},
   "source": [
    "## Add nodes"
   ]
  },
  {
   "cell_type": "code",
   "execution_count": 5,
   "metadata": {
    "ExecuteTime": {
     "end_time": "2021-08-25T18:12:06.982737Z",
     "start_time": "2021-08-25T18:12:06.970065Z"
    }
   },
   "outputs": [
    {
     "data": {
      "text/html": [
       "\n",
       "        <iframe\n",
       "            width=\"500px\"\n",
       "            height=\"500px\"\n",
       "            src=\"output/nodes.html\"\n",
       "            frameborder=\"0\"\n",
       "            allowfullscreen\n",
       "        ></iframe>\n",
       "        "
      ],
      "text/plain": [
       "<IPython.lib.display.IFrame at 0x7fa818f2ed60>"
      ]
     },
     "execution_count": 5,
     "metadata": {},
     "output_type": "execute_result"
    }
   ],
   "source": [
    "net = Network(notebook=True)\n",
    "net.add_node(1, label=\"Alex\")\n",
    "net.add_node(2, label=\"Cathy\")\n",
    "net.show(\"output/nodes.html\")"
   ]
  },
  {
   "cell_type": "code",
   "execution_count": 6,
   "metadata": {
    "ExecuteTime": {
     "end_time": "2021-08-25T18:12:06.986144Z",
     "start_time": "2021-08-25T18:12:06.983624Z"
    }
   },
   "outputs": [],
   "source": [
    "report.append(dp.HTML(read_html('output/nodes.html'), name='nodes'))"
   ]
  },
  {
   "cell_type": "markdown",
   "metadata": {},
   "source": [
    "## Add a list of nodes"
   ]
  },
  {
   "cell_type": "code",
   "execution_count": 7,
   "metadata": {
    "ExecuteTime": {
     "end_time": "2021-08-25T18:12:06.995458Z",
     "start_time": "2021-08-25T18:12:06.987247Z"
    }
   },
   "outputs": [
    {
     "data": {
      "text/html": [
       "\n",
       "        <iframe\n",
       "            width=\"500px\"\n",
       "            height=\"500px\"\n",
       "            src=\"output/list_of_nodes.html\"\n",
       "            frameborder=\"0\"\n",
       "            allowfullscreen\n",
       "        ></iframe>\n",
       "        "
      ],
      "text/plain": [
       "<IPython.lib.display.IFrame at 0x7fa828716160>"
      ]
     },
     "execution_count": 7,
     "metadata": {},
     "output_type": "execute_result"
    }
   ],
   "source": [
    "net = Network(notebook=True)\n",
    "net.add_nodes([1, 2], label=[\"Alex\", \"Carthy\"])\n",
    "net.show(\"output/list_of_nodes.html\")"
   ]
  },
  {
   "cell_type": "code",
   "execution_count": 8,
   "metadata": {
    "ExecuteTime": {
     "end_time": "2021-08-25T18:12:07.000155Z",
     "start_time": "2021-08-25T18:12:06.996564Z"
    }
   },
   "outputs": [],
   "source": [
    "report.append(dp.HTML(read_html('output/list_of_nodes.html'), name='list_of_nodes'))"
   ]
  },
  {
   "cell_type": "code",
   "execution_count": 9,
   "metadata": {
    "ExecuteTime": {
     "end_time": "2021-08-25T18:12:07.005789Z",
     "start_time": "2021-08-25T18:12:07.001347Z"
    }
   },
   "outputs": [
    {
     "data": {
      "text/html": [
       "\n",
       "        <iframe\n",
       "            width=\"500px\"\n",
       "            height=\"500px\"\n",
       "            src=\"output/list_of_nodes_with_color.html\"\n",
       "            frameborder=\"0\"\n",
       "            allowfullscreen\n",
       "        ></iframe>\n",
       "        "
      ],
      "text/plain": [
       "<IPython.lib.display.IFrame at 0x7fa8286e17f0>"
      ]
     },
     "execution_count": 9,
     "metadata": {},
     "output_type": "execute_result"
    }
   ],
   "source": [
    "net.add_nodes(\n",
    "    [3, 4, 5, 6],\n",
    "    label=[\"Michael\", \"Ben\", \"Oliver\", \"Olivia\"],\n",
    "    color=[\"#3da831\", \"#9a31a8\", \"#3155a8\", \"#eb4034\"],\n",
    ")\n",
    "net.show(\"output/list_of_nodes_with_color.html\")"
   ]
  },
  {
   "cell_type": "code",
   "execution_count": 10,
   "metadata": {
    "ExecuteTime": {
     "end_time": "2021-08-25T18:12:07.008913Z",
     "start_time": "2021-08-25T18:12:07.006801Z"
    }
   },
   "outputs": [],
   "source": [
    "report.append(dp.HTML(read_html('output/list_of_nodes_with_color.html'), name='list_of_nodes_with_color'))"
   ]
  },
  {
   "cell_type": "markdown",
   "metadata": {},
   "source": [
    "## Add edges"
   ]
  },
  {
   "cell_type": "markdown",
   "metadata": {},
   "source": [
    "### Edges"
   ]
  },
  {
   "cell_type": "code",
   "execution_count": 11,
   "metadata": {
    "ExecuteTime": {
     "end_time": "2021-08-25T18:12:07.018374Z",
     "start_time": "2021-08-25T18:12:07.010596Z"
    }
   },
   "outputs": [],
   "source": [
    "net = Network(notebook=True)\n",
    "\n",
    "net.add_nodes(\n",
    "    [1, 2, 3, 4, 5, 6],\n",
    "    label=[\"Alex\", \"Cathy\", \"Michael\", \"Ben\", \"Oliver\", \"Olivia\"],\n",
    "    color=[\"#00bfff\", \"#ffc0cb\", \"#3da831\", \"#9a31a8\", \"#3155a8\", \"#eb4034\"],\n",
    ")"
   ]
  },
  {
   "cell_type": "code",
   "execution_count": 12,
   "metadata": {
    "ExecuteTime": {
     "end_time": "2021-08-25T18:12:07.025509Z",
     "start_time": "2021-08-25T18:12:07.019274Z"
    }
   },
   "outputs": [
    {
     "data": {
      "text/html": [
       "\n",
       "        <iframe\n",
       "            width=\"500px\"\n",
       "            height=\"500px\"\n",
       "            src=\"output/edges.html\"\n",
       "            frameborder=\"0\"\n",
       "            allowfullscreen\n",
       "        ></iframe>\n",
       "        "
      ],
      "text/plain": [
       "<IPython.lib.display.IFrame at 0x7fa85832cf10>"
      ]
     },
     "execution_count": 12,
     "metadata": {},
     "output_type": "execute_result"
    }
   ],
   "source": [
    "net.add_edge(1, 5)\n",
    "net.add_edges([(2, 5), (3, 4), (1, 6), (2, 6), (3, 5)])\n",
    "net.show(\"output/edges.html\")"
   ]
  },
  {
   "cell_type": "code",
   "execution_count": 13,
   "metadata": {
    "ExecuteTime": {
     "end_time": "2021-08-25T18:12:07.028576Z",
     "start_time": "2021-08-25T18:12:07.026348Z"
    }
   },
   "outputs": [],
   "source": [
    "report.append(dp.HTML(read_html('output/edges.html'), name='edges'))"
   ]
  },
  {
   "cell_type": "markdown",
   "metadata": {},
   "source": [
    "### Edges with Weights"
   ]
  },
  {
   "cell_type": "code",
   "execution_count": 14,
   "metadata": {
    "ExecuteTime": {
     "end_time": "2021-08-25T18:12:07.036387Z",
     "start_time": "2021-08-25T18:12:07.029430Z"
    }
   },
   "outputs": [],
   "source": [
    "net = Network(notebook=True)\n",
    "\n",
    "net.add_nodes(\n",
    "    [1, 2, 3, 4, 5, 6],\n",
    "    label=[\"Alex\", \"Cathy\", \"Michael\", \"Ben\", \"Oliver\", \"Olivia\"],\n",
    "    color=[\"#00bfff\", \"#ffc0cb\", \"#3da831\", \"#9a31a8\", \"#3155a8\", \"#eb4034\"],\n",
    ")"
   ]
  },
  {
   "cell_type": "code",
   "execution_count": 15,
   "metadata": {
    "ExecuteTime": {
     "end_time": "2021-08-25T18:12:07.041389Z",
     "start_time": "2021-08-25T18:12:07.037267Z"
    }
   },
   "outputs": [],
   "source": [
    "net.add_edge(1, 5, value=2)\n",
    "net.add_edges([(2, 5, 5), (3, 4, 2), (1, 6), (2, 6), (3, 5)])"
   ]
  },
  {
   "cell_type": "code",
   "execution_count": 16,
   "metadata": {
    "ExecuteTime": {
     "end_time": "2021-08-25T18:12:07.045653Z",
     "start_time": "2021-08-25T18:12:07.042162Z"
    }
   },
   "outputs": [
    {
     "data": {
      "text/html": [
       "\n",
       "        <iframe\n",
       "            width=\"500px\"\n",
       "            height=\"500px\"\n",
       "            src=\"output/edges_with_weights.html\"\n",
       "            frameborder=\"0\"\n",
       "            allowfullscreen\n",
       "        ></iframe>\n",
       "        "
      ],
      "text/plain": [
       "<IPython.lib.display.IFrame at 0x7fa858327d30>"
      ]
     },
     "execution_count": 16,
     "metadata": {},
     "output_type": "execute_result"
    }
   ],
   "source": [
    "net.show(\"output/edges_with_weights.html\")"
   ]
  },
  {
   "cell_type": "code",
   "execution_count": 17,
   "metadata": {
    "ExecuteTime": {
     "end_time": "2021-08-25T18:12:07.048649Z",
     "start_time": "2021-08-25T18:12:07.046377Z"
    }
   },
   "outputs": [],
   "source": [
    "report.append(dp.HTML(read_html('output/edges_with_weights.html'), name='edges_with_weights'))"
   ]
  },
  {
   "cell_type": "markdown",
   "metadata": {},
   "source": [
    "### Edges with Repulsion"
   ]
  },
  {
   "cell_type": "code",
   "execution_count": 18,
   "metadata": {
    "ExecuteTime": {
     "end_time": "2021-08-25T18:12:07.053421Z",
     "start_time": "2021-08-25T18:12:07.049536Z"
    }
   },
   "outputs": [],
   "source": [
    "def add_repulsion(node_distance: int, spring_length: int):\n",
    "    net = Network(notebook=True)\n",
    "\n",
    "    net.add_nodes(\n",
    "        [1, 2, 3, 4, 5, 6],\n",
    "        label=[\"Alex\", \"Cathy\", \"Michael\", \"Ben\", \"Oliver\", \"Olivia\"],\n",
    "        color=[\"#00bfff\", \"#ffc0cb\", \"#3da831\", \"#9a31a8\", \"#3155a8\", \"#eb4034\"],\n",
    "    )\n",
    "\n",
    "    net.add_edge(1, 5, value=2)\n",
    "    net.add_edges([(2, 5, 5), (3, 4, 2), (1, 6), (2, 6), (3, 5)])\n",
    "\n",
    "    net.repulsion(node_distance=node_distance, spring_length=spring_length)\n",
    "\n",
    "    net.show(f\"output/distance_{node_distance}_spring_length_{spring_length}.html\")\n",
    "\n",
    "    return net"
   ]
  },
  {
   "cell_type": "code",
   "execution_count": 19,
   "metadata": {
    "ExecuteTime": {
     "end_time": "2021-08-25T18:12:07.063199Z",
     "start_time": "2021-08-25T18:12:07.054445Z"
    }
   },
   "outputs": [
    {
     "data": {
      "text/html": [
       "\n",
       "        <iframe\n",
       "            width=\"500px\"\n",
       "            height=\"500px\"\n",
       "            src=\"output/distance_100_spring_length_200.html\"\n",
       "            frameborder=\"0\"\n",
       "            allowfullscreen\n",
       "        ></iframe>\n",
       "        "
      ],
      "text/plain": [
       "<IPython.lib.display.IFrame at 0x7fa818f45f10>"
      ]
     },
     "execution_count": 19,
     "metadata": {},
     "output_type": "execute_result"
    }
   ],
   "source": [
    "net = add_repulsion(node_distance=100, spring_length=200)\n",
    "net.show(\"output/distance_100_spring_length_200.html\")"
   ]
  },
  {
   "cell_type": "code",
   "execution_count": 20,
   "metadata": {
    "ExecuteTime": {
     "end_time": "2021-08-25T18:12:07.067746Z",
     "start_time": "2021-08-25T18:12:07.064255Z"
    }
   },
   "outputs": [
    {
     "ename": "NameError",
     "evalue": "name 'oreport' is not defined",
     "output_type": "error",
     "traceback": [
      "\u001b[0;31m---------------------------------------------------------------------------\u001b[0m",
      "\u001b[0;31mNameError\u001b[0m                                 Traceback (most recent call last)",
      "\u001b[0;32m/var/folders/sd/1vc_q83x5rn9jjrd0x47_cc00000gn/T/ipykernel_19591/2868688835.py\u001b[0m in \u001b[0;36m<module>\u001b[0;34m\u001b[0m\n\u001b[0;32m----> 1\u001b[0;31m \u001b[0moreport\u001b[0m\u001b[0;34m.\u001b[0m\u001b[0mappend\u001b[0m\u001b[0;34m(\u001b[0m\u001b[0mdp\u001b[0m\u001b[0;34m.\u001b[0m\u001b[0mHTML\u001b[0m\u001b[0;34m(\u001b[0m\u001b[0mread_html\u001b[0m\u001b[0;34m(\u001b[0m\u001b[0;34m'output/distance_100_spring_length_200.html'\u001b[0m\u001b[0;34m)\u001b[0m\u001b[0;34m,\u001b[0m \u001b[0mname\u001b[0m\u001b[0;34m=\u001b[0m\u001b[0;34m'distance_100_spring_length_200'\u001b[0m\u001b[0;34m)\u001b[0m\u001b[0;34m)\u001b[0m\u001b[0;34m\u001b[0m\u001b[0;34m\u001b[0m\u001b[0m\n\u001b[0m",
      "\u001b[0;31mNameError\u001b[0m: name 'oreport' is not defined"
     ]
    }
   ],
   "source": [
    "oreport.append(dp.HTML(read_html('output/distance_100_spring_length_200.html'), name='distance_100_spring_length_200'))"
   ]
  },
  {
   "cell_type": "code",
   "execution_count": 21,
   "metadata": {
    "ExecuteTime": {
     "end_time": "2021-08-25T18:12:07.077820Z",
     "start_time": "2021-08-25T18:12:07.068813Z"
    }
   },
   "outputs": [
    {
     "data": {
      "text/html": [
       "\n",
       "        <iframe\n",
       "            width=\"500px\"\n",
       "            height=\"500px\"\n",
       "            src=\"output/distance_100_spring_length_1000.html\"\n",
       "            frameborder=\"0\"\n",
       "            allowfullscreen\n",
       "        ></iframe>\n",
       "        "
      ],
      "text/plain": [
       "<IPython.lib.display.IFrame at 0x7fa8286e1c10>"
      ]
     },
     "execution_count": 21,
     "metadata": {},
     "output_type": "execute_result"
    }
   ],
   "source": [
    "net = add_repulsion(node_distance=100, spring_length=1000)\n",
    "net.show(f\"output/distance_100_spring_length_1000.html\")"
   ]
  },
  {
   "cell_type": "code",
   "execution_count": 22,
   "metadata": {
    "ExecuteTime": {
     "end_time": "2021-08-25T18:12:07.082056Z",
     "start_time": "2021-08-25T18:12:07.078594Z"
    }
   },
   "outputs": [],
   "source": [
    "report.append(dp.HTML(read_html('output/distance_100_spring_length_1000.html'), name='distance_100_spring_length_1000'))"
   ]
  },
  {
   "cell_type": "code",
   "execution_count": 23,
   "metadata": {
    "ExecuteTime": {
     "end_time": "2021-08-25T18:12:07.128758Z",
     "start_time": "2021-08-25T18:12:07.082920Z"
    }
   },
   "outputs": [
    {
     "data": {
      "text/html": [
       "\n",
       "        <iframe\n",
       "            width=\"500px\"\n",
       "            height=\"500px\"\n",
       "            src=\"output/distance_500_spring_length_200.html\"\n",
       "            frameborder=\"0\"\n",
       "            allowfullscreen\n",
       "        ></iframe>\n",
       "        "
      ],
      "text/plain": [
       "<IPython.lib.display.IFrame at 0x7fa8287160d0>"
      ]
     },
     "execution_count": 23,
     "metadata": {},
     "output_type": "execute_result"
    }
   ],
   "source": [
    "net = add_repulsion(node_distance=500, spring_length=200)\n",
    "net.show(f\"output/distance_500_spring_length_200.html\")"
   ]
  },
  {
   "cell_type": "code",
   "execution_count": 24,
   "metadata": {
    "ExecuteTime": {
     "end_time": "2021-08-25T18:12:07.133326Z",
     "start_time": "2021-08-25T18:12:07.129909Z"
    }
   },
   "outputs": [],
   "source": [
    "report.append(dp.HTML(read_html('output/distance_500_spring_length_200.html'), name='distance_500_spring_length_200'))"
   ]
  },
  {
   "cell_type": "markdown",
   "metadata": {},
   "source": [
    "# Matching problem"
   ]
  },
  {
   "cell_type": "code",
   "execution_count": 26,
   "metadata": {
    "ExecuteTime": {
     "end_time": "2021-08-25T18:12:07.221069Z",
     "start_time": "2021-08-25T18:12:07.134062Z"
    }
   },
   "outputs": [
    {
     "data": {
      "text/plain": [
       "['Ben', 'Kate', 'Thinh', 'Jorge', 'Alfredo', 'Francisco', 'Olivia', 'Chris']"
      ]
     },
     "execution_count": 26,
     "metadata": {},
     "output_type": "execute_result"
    }
   ],
   "source": [
    "df = pd.read_excel(\"data/employer_matching.xlsx\", index_col=0)\n",
    "nodes = df.columns.to_list()\n",
    "nodes = [node.strip() for node in nodes]\n",
    "nodes"
   ]
  },
  {
   "cell_type": "code",
   "execution_count": null,
   "metadata": {
    "ExecuteTime": {
     "end_time": "2021-08-25T18:12:07.239579Z",
     "start_time": "2021-08-25T18:12:07.221955Z"
    }
   },
   "outputs": [],
   "source": []
  },
  {
   "cell_type": "code",
   "execution_count": 27,
   "metadata": {
    "ExecuteTime": {
     "end_time": "2021-08-25T18:12:07.243607Z",
     "start_time": "2021-08-25T18:12:07.240529Z"
    }
   },
   "outputs": [],
   "source": [
    "def draw_network(\n",
    "    nodes: list,\n",
    "    df: pd.DataFrame,\n",
    "    minium_weight: int = 0,\n",
    "    repulsion: int = 100,\n",
    "    spring_length=200,\n",
    "    buttons=False,\n",
    "):\n",
    "\n",
    "    net = Network(\"500px\", \"500px\", notebook=True)\n",
    "    net.add_nodes(nodes)\n",
    "\n",
    "    # add edges\n",
    "    for node, weights in df.iterrows():\n",
    "        edges = get_edges(node, weights, nodes, minium_weight)\n",
    "        net.add_edges(edges)\n",
    "\n",
    "    # change node distance and spring length\n",
    "    net.repulsion(repulsion, spring_length=spring_length)\n",
    "\n",
    "    # Tweek configuration UI\n",
    "    net.show_buttons(filter_=buttons)\n",
    "    return net"
   ]
  },
  {
   "cell_type": "code",
   "execution_count": 28,
   "metadata": {
    "ExecuteTime": {
     "end_time": "2021-08-25T18:12:07.249073Z",
     "start_time": "2021-08-25T18:12:07.244455Z"
    },
    "code_folding": []
   },
   "outputs": [],
   "source": [
    "def get_edges(node: str, weights: list, all_nodes: list, minium_weight: int):\n",
    "\n",
    "    nodes = all_nodes.copy()\n",
    "\n",
    "    # Remove target node\n",
    "    nodes.remove(node)\n",
    "\n",
    "    # Create a list of edges with weights\n",
    "    edges = [(node, connection, weight) for connection, weight in zip(nodes, weights)]\n",
    "\n",
    "    # Get only edges with weights greater than the minimum weight\n",
    "    edges = [edge for edge in edges if edge[2] >= minium_weight]\n",
    "\n",
    "    return edges"
   ]
  },
  {
   "cell_type": "code",
   "execution_count": 29,
   "metadata": {
    "ExecuteTime": {
     "end_time": "2021-08-25T18:12:07.262977Z",
     "start_time": "2021-08-25T18:12:07.251751Z"
    }
   },
   "outputs": [
    {
     "data": {
      "text/html": [
       "\n",
       "        <iframe\n",
       "            width=\"500px\"\n",
       "            height=\"500px\"\n",
       "            src=\"output/match.html\"\n",
       "            frameborder=\"0\"\n",
       "            allowfullscreen\n",
       "        ></iframe>\n",
       "        "
      ],
      "text/plain": [
       "<IPython.lib.display.IFrame at 0x7fa8287eac10>"
      ]
     },
     "execution_count": 29,
     "metadata": {},
     "output_type": "execute_result"
    }
   ],
   "source": [
    "net = draw_network(nodes, df, minium_weight=9, repulsion=100, spring_length=500)\n",
    "net.show(\"output/match.html\")"
   ]
  },
  {
   "cell_type": "code",
   "execution_count": 30,
   "metadata": {
    "ExecuteTime": {
     "end_time": "2021-08-25T18:12:07.266094Z",
     "start_time": "2021-08-25T18:12:07.264009Z"
    }
   },
   "outputs": [],
   "source": [
    "report.append(dp.HTML(read_html('output/match.html'), name='match'))"
   ]
  },
  {
   "cell_type": "code",
   "execution_count": 31,
   "metadata": {
    "ExecuteTime": {
     "end_time": "2021-08-25T18:12:07.276836Z",
     "start_time": "2021-08-25T18:12:07.266991Z"
    },
    "scrolled": false
   },
   "outputs": [
    {
     "data": {
      "text/html": [
       "\n",
       "        <iframe\n",
       "            width=\"500px\"\n",
       "            height=\"500px\"\n",
       "            src=\"output/match_with_buttons.html\"\n",
       "            frameborder=\"0\"\n",
       "            allowfullscreen\n",
       "        ></iframe>\n",
       "        "
      ],
      "text/plain": [
       "<IPython.lib.display.IFrame at 0x7fa808dbee50>"
      ]
     },
     "execution_count": 31,
     "metadata": {},
     "output_type": "execute_result"
    }
   ],
   "source": [
    "net = draw_network(\n",
    "    nodes, df, minium_weight=0, repulsion=100, spring_length=500, buttons=[\"physics\"]\n",
    ")\n",
    "net.show_buttons(filter_=True)\n",
    "net.show(\"output/match_with_buttons.html\")\n"
   ]
  },
  {
   "cell_type": "code",
   "execution_count": 32,
   "metadata": {
    "ExecuteTime": {
     "end_time": "2021-08-25T18:12:07.279708Z",
     "start_time": "2021-08-25T18:12:07.277630Z"
    }
   },
   "outputs": [],
   "source": [
    "report.append(dp.HTML(read_html('output/match_with_buttons.html'), name='match_with_buttons'))"
   ]
  },
  {
   "cell_type": "code",
   "execution_count": 34,
   "metadata": {
    "ExecuteTime": {
     "end_time": "2021-08-25T18:12:08.196885Z",
     "start_time": "2021-08-25T18:12:07.280455Z"
    }
   },
   "outputs": [
    {
     "data": {
      "text/markdown": [
       "Uploading report and associated data - *please wait...*"
      ],
      "text/plain": [
       "<IPython.core.display.Markdown object>"
      ]
     },
     "metadata": {},
     "output_type": "display_data"
    },
    {
     "ename": "InvalidTokenError",
     "evalue": "Please sign-up and login - if you already have then please restart your Jupyter kernel/Python instance to initialize your new token\nPlease run with `dp.enable_logging()`, restart your Jupyter kernel/Python instance, and/or visit https://www.github.com/datapane/datapane to raise issue / discuss if error repeats",
     "output_type": "error",
     "traceback": [
      "\u001b[0;31m---------------------------------------------------------------------------\u001b[0m",
      "\u001b[0;31mInvalidTokenError\u001b[0m                         Traceback (most recent call last)",
      "\u001b[0;32m/var/folders/sd/1vc_q83x5rn9jjrd0x47_cc00000gn/T/ipykernel_19591/1469657887.py\u001b[0m in \u001b[0;36m<module>\u001b[0;34m\u001b[0m\n\u001b[0;32m----> 1\u001b[0;31m \u001b[0mdp\u001b[0m\u001b[0;34m.\u001b[0m\u001b[0mReport\u001b[0m\u001b[0;34m(\u001b[0m\u001b[0;34m*\u001b[0m\u001b[0mreport\u001b[0m\u001b[0;34m)\u001b[0m\u001b[0;34m.\u001b[0m\u001b[0mupload\u001b[0m\u001b[0;34m(\u001b[0m\u001b[0mname\u001b[0m\u001b[0;34m=\u001b[0m\u001b[0;34m'Pyvis: Visualize Interactive Network Graphs in Python'\u001b[0m\u001b[0;34m)\u001b[0m\u001b[0;34m\u001b[0m\u001b[0;34m\u001b[0m\u001b[0m\n\u001b[0m",
      "\u001b[0;32m~/opt/anaconda3/lib/python3.8/site-packages/datapane/client/api/report/core.py\u001b[0m in \u001b[0;36mupload\u001b[0;34m(self, name, description, source_url, visibility, tags, group, source_file, open, formatting, **kwargs)\u001b[0m\n\u001b[1;32m    515\u001b[0m         \u001b[0mdisplay_msg\u001b[0m\u001b[0;34m(\u001b[0m\u001b[0;34m\"Uploading report and associated data - *please wait...*\"\u001b[0m\u001b[0;34m)\u001b[0m\u001b[0;34m\u001b[0m\u001b[0;34m\u001b[0m\u001b[0m\n\u001b[1;32m    516\u001b[0m \u001b[0;34m\u001b[0m\u001b[0m\n\u001b[0;32m--> 517\u001b[0;31m         self._upload_report(\n\u001b[0m\u001b[1;32m    518\u001b[0m             \u001b[0mname\u001b[0m\u001b[0;34m,\u001b[0m \u001b[0mdescription\u001b[0m\u001b[0;34m,\u001b[0m \u001b[0msource_url\u001b[0m\u001b[0;34m,\u001b[0m \u001b[0mvisibility\u001b[0m\u001b[0;34m,\u001b[0m \u001b[0mtags\u001b[0m\u001b[0;34m,\u001b[0m \u001b[0mgroup\u001b[0m\u001b[0;34m,\u001b[0m \u001b[0msource_file\u001b[0m\u001b[0;34m,\u001b[0m \u001b[0mformatting\u001b[0m\u001b[0;34m=\u001b[0m\u001b[0mformatting\u001b[0m\u001b[0;34m,\u001b[0m \u001b[0;34m**\u001b[0m\u001b[0mkwargs\u001b[0m\u001b[0;34m\u001b[0m\u001b[0;34m\u001b[0m\u001b[0m\n\u001b[1;32m    519\u001b[0m         )\n",
      "\u001b[0;32m~/opt/anaconda3/lib/python3.8/site-packages/datapane/client/api/report/core.py\u001b[0m in \u001b[0;36m_upload_report\u001b[0;34m(self, name, description, source_url, visibility, tags, group, source_file, formatting, **kwargs)\u001b[0m\n\u001b[1;32m    297\u001b[0m                 \u001b[0mprocess_notebook\u001b[0m\u001b[0;34m(\u001b[0m\u001b[0mPath\u001b[0m\u001b[0;34m(\u001b[0m\u001b[0msource_file\u001b[0m\u001b[0;34m)\u001b[0m\u001b[0;34m,\u001b[0m \u001b[0moutput_file\u001b[0m\u001b[0;34m.\u001b[0m\u001b[0mfile\u001b[0m\u001b[0;34m)\u001b[0m\u001b[0;34m\u001b[0m\u001b[0;34m\u001b[0m\u001b[0m\n\u001b[1;32m    298\u001b[0m                 \u001b[0mfiles\u001b[0m\u001b[0;34m[\u001b[0m\u001b[0;34m\"source_file\"\u001b[0m\u001b[0;34m]\u001b[0m \u001b[0;34m=\u001b[0m \u001b[0;34m[\u001b[0m\u001b[0moutput_file\u001b[0m\u001b[0;34m.\u001b[0m\u001b[0mfile\u001b[0m\u001b[0;34m]\u001b[0m\u001b[0;34m\u001b[0m\u001b[0;34m\u001b[0m\u001b[0m\n\u001b[0;32m--> 299\u001b[0;31m             \u001b[0mres\u001b[0m \u001b[0;34m=\u001b[0m \u001b[0mResource\u001b[0m\u001b[0;34m(\u001b[0m\u001b[0mself\u001b[0m\u001b[0;34m.\u001b[0m\u001b[0mendpoint\u001b[0m\u001b[0;34m)\u001b[0m\u001b[0;34m.\u001b[0m\u001b[0mpost_files\u001b[0m\u001b[0;34m(\u001b[0m\u001b[0mfiles\u001b[0m\u001b[0;34m,\u001b[0m \u001b[0mapi_document\u001b[0m\u001b[0;34m=\u001b[0m\u001b[0mreport_str\u001b[0m\u001b[0;34m,\u001b[0m \u001b[0;34m**\u001b[0m\u001b[0mkwargs\u001b[0m\u001b[0;34m)\u001b[0m\u001b[0;34m\u001b[0m\u001b[0;34m\u001b[0m\u001b[0m\n\u001b[0m\u001b[1;32m    300\u001b[0m \u001b[0;34m\u001b[0m\u001b[0m\n\u001b[1;32m    301\u001b[0m         \u001b[0;31m# Set dto based on new URL\u001b[0m\u001b[0;34m\u001b[0m\u001b[0;34m\u001b[0m\u001b[0;34m\u001b[0m\u001b[0m\n",
      "\u001b[0;32m~/opt/anaconda3/lib/python3.8/site-packages/datapane/client/api/common.py\u001b[0m in \u001b[0;36m__init__\u001b[0;34m(self, endpoint)\u001b[0m\n\u001b[1;32m    160\u001b[0m         \u001b[0;31m# TODO - use furl for paths here\u001b[0m\u001b[0;34m\u001b[0m\u001b[0;34m\u001b[0m\u001b[0;34m\u001b[0m\u001b[0m\n\u001b[1;32m    161\u001b[0m         \u001b[0mself\u001b[0m\u001b[0;34m.\u001b[0m\u001b[0mendpoint\u001b[0m \u001b[0;34m=\u001b[0m \u001b[0mendpoint\u001b[0m\u001b[0;34m.\u001b[0m\u001b[0msplit\u001b[0m\u001b[0;34m(\u001b[0m\u001b[0;34m\"/api\"\u001b[0m\u001b[0;34m,\u001b[0m \u001b[0mmaxsplit\u001b[0m\u001b[0;34m=\u001b[0m\u001b[0;36m1\u001b[0m\u001b[0;34m)\u001b[0m\u001b[0;34m[\u001b[0m\u001b[0;34m-\u001b[0m\u001b[0;36m1\u001b[0m\u001b[0;34m]\u001b[0m\u001b[0;34m\u001b[0m\u001b[0;34m\u001b[0m\u001b[0m\n\u001b[0;32m--> 162\u001b[0;31m         \u001b[0mconfig\u001b[0m \u001b[0;34m=\u001b[0m \u001b[0mc\u001b[0m\u001b[0;34m.\u001b[0m\u001b[0mcheck_get_config\u001b[0m\u001b[0;34m(\u001b[0m\u001b[0;34m)\u001b[0m\u001b[0;34m\u001b[0m\u001b[0;34m\u001b[0m\u001b[0m\n\u001b[0m\u001b[1;32m    163\u001b[0m         \u001b[0mself\u001b[0m\u001b[0;34m.\u001b[0m\u001b[0murl\u001b[0m \u001b[0;34m=\u001b[0m \u001b[0mup\u001b[0m\u001b[0;34m.\u001b[0m\u001b[0murljoin\u001b[0m\u001b[0;34m(\u001b[0m\u001b[0mconfig\u001b[0m\u001b[0;34m.\u001b[0m\u001b[0mserver\u001b[0m\u001b[0;34m,\u001b[0m \u001b[0;34mf\"api{self.endpoint}\"\u001b[0m\u001b[0;34m)\u001b[0m\u001b[0;34m\u001b[0m\u001b[0;34m\u001b[0m\u001b[0m\n\u001b[1;32m    164\u001b[0m         \u001b[0;31m# check if access to the resource is allowed\u001b[0m\u001b[0;34m\u001b[0m\u001b[0;34m\u001b[0m\u001b[0;34m\u001b[0m\u001b[0m\n",
      "\u001b[0;32m~/opt/anaconda3/lib/python3.8/site-packages/datapane/client/config.py\u001b[0m in \u001b[0;36mcheck_get_config\u001b[0;34m()\u001b[0m\n\u001b[1;32m    181\u001b[0m                 \u001b[0mf\u001b[0m \u001b[0;34m=\u001b[0m \u001b[0mfurl\u001b[0m\u001b[0;34m(\u001b[0m\u001b[0mpath\u001b[0m\u001b[0;34m=\u001b[0m\u001b[0;34m\"/home/\"\u001b[0m\u001b[0;34m,\u001b[0m \u001b[0morigin\u001b[0m\u001b[0;34m=\u001b[0m\u001b[0m_config\u001b[0m\u001b[0;34m.\u001b[0m\u001b[0mserver\u001b[0m\u001b[0;34m)\u001b[0m\u001b[0;34m\u001b[0m\u001b[0;34m\u001b[0m\u001b[0m\n\u001b[1;32m    182\u001b[0m                 \u001b[0mwebbrowser\u001b[0m\u001b[0;34m.\u001b[0m\u001b[0mopen\u001b[0m\u001b[0;34m(\u001b[0m\u001b[0murl\u001b[0m\u001b[0;34m=\u001b[0m\u001b[0mstr\u001b[0m\u001b[0;34m(\u001b[0m\u001b[0mf\u001b[0m\u001b[0;34m)\u001b[0m\u001b[0;34m,\u001b[0m \u001b[0mnew\u001b[0m\u001b[0;34m=\u001b[0m\u001b[0;36m2\u001b[0m\u001b[0;34m)\u001b[0m\u001b[0;34m\u001b[0m\u001b[0;34m\u001b[0m\u001b[0m\n\u001b[0;32m--> 183\u001b[0;31m             raise InvalidTokenError(\n\u001b[0m\u001b[1;32m    184\u001b[0m                 \u001b[0;34m\"Please sign-up and login - if you already have then please restart your Jupyter kernel/Python instance to initialize your new token\"\u001b[0m\u001b[0;34m\u001b[0m\u001b[0;34m\u001b[0m\u001b[0m\n\u001b[1;32m    185\u001b[0m             )\n",
      "\u001b[0;31mInvalidTokenError\u001b[0m: Please sign-up and login - if you already have then please restart your Jupyter kernel/Python instance to initialize your new token\nPlease run with `dp.enable_logging()`, restart your Jupyter kernel/Python instance, and/or visit https://www.github.com/datapane/datapane to raise issue / discuss if error repeats"
     ]
    }
   ],
   "source": [
    "dp.Report(*report).upload(name='Pyvis: Visualize Interactive Network Graphs in Python')"
   ]
  },
  {
   "cell_type": "code",
   "execution_count": 35,
   "metadata": {},
   "outputs": [
    {
     "name": "stdout",
     "output_type": "stream",
     "text": [
      "Creating and running `./hello.py` - running this code generates a sample Datapane report. You can edit the script and run it again to change the generated report.\n",
      "\n",
      "[\u001b[34m23:47:28\u001b[0m] [\u001b[33mWARNING\u001b[0m] Bokeh version 2.3.3 is not supported, these plots may not display correctly, please install version ~=2.2.0\u001b[0m\n",
      "[\u001b[34m23:47:28\u001b[0m] [\u001b[33mWARNING\u001b[0m] Folium version 0.11.0 is not supported, these plots may not display correctly, please install version >=0.12.0\u001b[0m\n",
      "Report saved to ./hello.html. To upload and share your report, create a free Datapane account by running `datapane signup`.\n",
      "\n",
      "Next, run `datapane signup` to create a free account and upload a report.\n"
     ]
    }
   ],
   "source": [
    "!datapane hello-world\n"
   ]
  },
  {
   "cell_type": "code",
   "execution_count": null,
   "metadata": {},
   "outputs": [],
   "source": []
  },
  {
   "cell_type": "code",
   "execution_count": null,
   "metadata": {},
   "outputs": [],
   "source": []
  },
  {
   "cell_type": "code",
   "execution_count": 36,
   "metadata": {},
   "outputs": [],
   "source": [
    "import altair as alt\n",
    "from vega_datasets import data\n",
    "\n",
    "source = data.cars()\n",
    "\n",
    "plot1 = alt.Chart(source).mark_circle(size=60).encode(\n",
    "  x='Horsepower',\n",
    "  y='Miles_per_Gallon',\n",
    "  color='Origin',\n",
    "  tooltip=['Name', 'Origin', 'Horsepower', 'Miles_per_Gallon']\n",
    ").interactive()"
   ]
  },
  {
   "cell_type": "code",
   "execution_count": 37,
   "metadata": {},
   "outputs": [
    {
     "name": "stderr",
     "output_type": "stream",
     "text": [
      "Bokeh version 2.3.3 is not supported, these plots may not display correctly, please install version ~=2.2.0\n",
      "Folium version 0.11.0 is not supported, these plots may not display correctly, please install version >=0.12.0\n"
     ]
    },
    {
     "data": {
      "text/markdown": [
       "Report saved to ./output/Hello_world.html. To upload and share your report, create a free Datapane account by running `!datapane signup`."
      ],
      "text/plain": [
       "<IPython.core.display.Markdown object>"
      ]
     },
     "metadata": {},
     "output_type": "display_data"
    }
   ],
   "source": [
    "import datapane as dp\n",
    "\n",
    "report = dp.Report(\n",
    "    dp.Plot(plot1),\n",
    "    dp.DataTable(source)\n",
    ")\n",
    "\n",
    "report.save(path=\"output/Hello_world.html\")"
   ]
  },
  {
   "cell_type": "code",
   "execution_count": 38,
   "metadata": {},
   "outputs": [
    {
     "data": {
      "text/markdown": [
       "Report saved to ./output/Layout_example.html. To upload and share your report, create a free Datapane account by running `!datapane signup`."
      ],
      "text/plain": [
       "<IPython.core.display.Markdown object>"
      ]
     },
     "metadata": {},
     "output_type": "display_data"
    }
   ],
   "source": [
    "import altair as alt\n",
    "from vega_datasets import data\n",
    "import datapane as dp\n",
    "\n",
    "source = data.cars()\n",
    "\n",
    "plot1 = alt.Chart(source).mark_circle(size=60).encode(\n",
    "  x='Horsepower',\n",
    "  y='Miles_per_Gallon',\n",
    "  color='Origin',\n",
    "  tooltip=['Name', 'Origin', 'Horsepower', 'Miles_per_Gallon']\n",
    ").interactive()\n",
    "\n",
    "report = dp.Report(\n",
    "  dp.Formula(\"x^2 + y^2 = z^2\"),\n",
    "  dp.Group(\n",
    "      dp.BigNumber(\n",
    "          heading=\"Number of percentage points\",\n",
    "          value=\"84%\",\n",
    "          change=\"2%\",\n",
    "          is_upward_change=True\n",
    "      ),\n",
    "      dp.BigNumber(\n",
    "          heading=\"Simple Statistic\",\n",
    "          value=100\n",
    "      ), columns=2\n",
    "  ),\n",
    "  dp.Select(\n",
    "      dp.Plot(plot1, label=\"Chart\"),\n",
    "      dp.DataTable(source, label=\"Data\")\n",
    "  ),\n",
    ")\n",
    "\n",
    "report.save(path=\"output/Layout_example.html\")"
   ]
  },
  {
   "cell_type": "code",
   "execution_count": null,
   "metadata": {},
   "outputs": [],
   "source": []
  }
 ],
 "metadata": {
  "finalized": {
   "timestamp": 1623461886405,
   "trusted": true
  },
  "kernelspec": {
   "display_name": "Python 3 (ipykernel)",
   "language": "python",
   "name": "python3"
  },
  "language_info": {
   "codemirror_mode": {
    "name": "ipython",
    "version": 3
   },
   "file_extension": ".py",
   "mimetype": "text/x-python",
   "name": "python",
   "nbconvert_exporter": "python",
   "pygments_lexer": "ipython3",
   "version": "3.8.5"
  },
  "toc": {
   "base_numbering": 1,
   "nav_menu": {},
   "number_sections": true,
   "sideBar": true,
   "skip_h1_title": false,
   "title_cell": "Table of Contents",
   "title_sidebar": "Contents",
   "toc_cell": false,
   "toc_position": {},
   "toc_section_display": true,
   "toc_window_display": false
  }
 },
 "nbformat": 4,
 "nbformat_minor": 5
}
