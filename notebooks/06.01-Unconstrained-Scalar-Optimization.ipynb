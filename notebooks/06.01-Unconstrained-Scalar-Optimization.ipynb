{
 "cells": [
  {
   "cell_type": "code",
   "execution_count": null,
   "metadata": {},
   "outputs": [],
   "source": []
  },
  {
   "cell_type": "markdown",
   "metadata": {},
   "source": [
    "# Unconstrained Scalar Optimization\n",
    "\n",
    "One of the problems studied in introductory calculus courses is the minimization or maximization of a function of a single variable. That is, given a function $f(x)$, find values $x^*$ such that $f(x^*) \\leq f(x)$, or $f(x^*) \\geq f(x)$, for all $x$ in an interval containing $x^*$. Such points are called local optima. If the derivative exists at all points in a given interval, then the local optima are found by solving for values $x^*$ that satisfy\n",
    "\n",
    "\\begin{align}\n",
    "f'(x^*) = 0\n",
    "\\end{align}\n",
    "\n",
    "Let's see how we can put this to work in a process engineering context."
   ]
  },
  {
   "cell_type": "markdown",
   "metadata": {},
   "source": [
    "## Example: Reactor for a Series Reaction\n",
    "\n",
    "A desired product $B$ is produced as intermediate in a series reaction\n",
    "\n",
    "\\begin{align}\n",
    "A \\overset{k_A}{\\longrightarrow} B \\overset{k_B}{\\longrightarrow} C\n",
    "\\end{align}\n",
    "\n",
    "where $A$ is a raw material and $C$ is a undesired by-product. The reaction operates at temperature where the rate constants are $k_A = 0.5\\ \\mbox{min}^{-1}$ and $k_A = 0.1\\ \\mbox{min}^{-1}$. The raw material is available as solution with a concenration $$C_{A,f} = 2.0\\ \\mbox{moles/liter}$.\n",
    "\n",
    "A 100 liter tank is avialable to run the reaction. \n",
    "\n",
    "1. If the goal is obtain the maximum possible concentration of $B$, and the tank is operated as a continuous stirred tank reactor, what should be the flowrate? \n",
    "\n",
    "2. What is the production rate of $B$ at maximum concentration?\n",
    "\n",
    "3. [Bonus] Would it be better to operate the tank as a batch reactor?"
   ]
  },
  {
   "cell_type": "markdown",
   "metadata": {},
   "source": [
    "## Continuous Stirred Tank Reactor\n",
    "\n",
    "The reaction dynamics for an isothermal continuous stirred tank reactor with a volume $V = 40$ liters and feed concentration $C_{A,f}$ are modeled as\n",
    "\n",
    "\\begin{align}\n",
    "V\\frac{dC_A}{dt} & = q(C_{A,f} - C_A) - V k_A C_A \\\\\n",
    "V\\frac{dC_B}{dt} & = - q C_B + V k_A C_A - V k_B C_B\n",
    "\\end{align}\n",
    "\n",
    "At steady-state the material balances become\n",
    "\n",
    "\\begin{align}\n",
    "0 & = q(C_{A,f} - \\bar{C}_A) - V k_A \\bar{C}_A \\\\\n",
    "0 & = - q \\bar{C}_B + V k_A \\bar{C}_A - V k_B \\bar{C}_B \n",
    "\\end{align}\n",
    "\n",
    "which can be solved for $C_A$\n",
    "\n",
    "\\begin{align}\n",
    "\\bar{C}_A & = \\frac{qC_{A,f}}{q + Vk_A} \\\\\n",
    "\\end{align}\n",
    "\n",
    "and then for $C_B$\n",
    "\n",
    "\\begin{align}\n",
    "\\bar{C}_B & = \\frac{q V k_A C_{A,f}}{(q + V k_A)(q + Vk_B)}\n",
    "\\end{align}\n",
    "\n",
    "The numerator is first-order in flowrate $q$, and the denominator is quadratic.  This is consistent with an intermediate value of $q$ corresponding to a maximum concentration $\\bar{C}_B$. \n",
    "\n",
    "The next cell plots $\\bar{C}_B$ as a function of flowrate $q$."
   ]
  },
  {
   "cell_type": "code",
   "execution_count": 1,
   "metadata": {},
   "outputs": [
    {
     "data": {
      "image/png": "[encoded data removed]",
      "text/plain": [
       "<Figure size 432x288 with 1 Axes>"
      ]
     },
     "metadata": {
      "needs_background": "light"
     },
     "output_type": "display_data"
    }
   ],
   "source": [
    "%matplotlib inline\n",
    "import matplotlib.pyplot as plt\n",
    "import numpy as np\n",
    "\n",
    "V = 40     # liters\n",
    "kA = 0.5   # 1/min\n",
    "kB = 0.1   # l/min\n",
    "CAf = 2.0  # moles/liter\n",
    "\n",
    "def cstr(q):\n",
    "    return q*V*kA*CAf/(q + V*kB)/(q + V*kA)\n",
    "\n",
    "q = np.linspace(0,30,200)\n",
    "plt.plot(q, cstr(q))\n",
    "plt.xlabel('flowrate q / liters per minute')\n",
    "plt.ylabel('concentration C_B / moles per liter')\n",
    "plt.title('Outlet concentration for a CSTR')\n",
    "plt.grid()"
   ]
  },
  {
   "cell_type": "markdown",
   "metadata": {},
   "source": [
    "We see that, for the parameters given, there is an optimal flowrate somewhere between 5 and 10 liters per minute."
   ]
  },
  {
   "cell_type": "markdown",
   "metadata": {},
   "source": [
    "## Analytical Solution using Calculus\n",
    "\n",
    "As it happens, this problem has an interesting analytical solution that can be found by hand, and which can be used to check the accuracy of numerical solutions. Setting the first derivative of $\\bar{C}_B$ to zero,\n",
    "\n",
    "\\begin{align}\n",
    "\\left.\\frac{d\\bar{C}_B}{dq}\\right|_{q^*} = \\frac{V k_A C_{A,f}}{(q^* + V k_A)(q^* + Vk_B)} - \\frac{q^* V k_A C_{A,f}}{(q^* + V k_A)^2(q^* + Vk_B)} - \\frac{q^* V k_A C_{A,f}}{(q^* + V k_A)(q^* + Vk_B)^2} = 0\n",
    "\\end{align}\n",
    "\n",
    "Clearing out the non-negative common factors yields\n",
    "\n",
    "\\begin{align}\n",
    "1 - \\frac{q^*}{(q^* + V k_A)} - \\frac{q^*}{(q^* + Vk_B)} = 0\n",
    "\\end{align}\n",
    "\n",
    "and multiplying by the non-negative denominators produces\n",
    "\n",
    "\\begin{align}\n",
    "{q^*}^2 + q^*V(k_A + k_B) + V^2k_Ak_B - q^*(q^* + Vk_B) - q^*(q^* + Vk_A) = 0\n",
    "\\end{align}\n",
    "\n",
    "Expanding these expressions followed by arithmetic cancelations gives the final result\n",
    "\n",
    "\\begin{align}\n",
    "q^*  =  V\\sqrt{k_Ak_B}\n",
    "\\end{align}\n",
    "\n",
    "which shows the optimal dilution rate, $\\frac{q^*}{V}$, is equal the geomtric mean of the rate constants."
   ]
  },
  {
   "cell_type": "code",
   "execution_count": 2,
   "metadata": {},
   "outputs": [
    {
     "name": "stdout",
     "output_type": "stream",
     "text": [
      "Flowrate at maximum CB =  8.94427190999916 liters per minute.\n",
      "Maximum CB = 0.9549150281252629 moles per liter.\n",
      "Productivity =  8.541019662496845 moles per minute.\n"
     ]
    }
   ],
   "source": [
    "%matplotlib inline\n",
    "import matplotlib.pyplot as plt\n",
    "import numpy as np\n",
    "\n",
    "V = 40     # liters\n",
    "kA = 0.5   # 1/min\n",
    "kB = 0.1   # l/min\n",
    "CAf = 2.0  # moles/liter\n",
    "\n",
    "qmax = V*np.sqrt(kA*kB)\n",
    "CBmax = cstr(qmax)\n",
    "print('Flowrate at maximum CB = ', qmax, 'liters per minute.')\n",
    "print('Maximum CB =', CBmax, 'moles per liter.')\n",
    "print('Productivity = ', qmax*CBmax, 'moles per minute.')"
   ]
  },
  {
   "cell_type": "markdown",
   "metadata": {},
   "source": [
    "## Numerical Solution using `scipy.minimize_scalar`\n",
    "\n",
    "In many applications, a simple analysis leading to an analytical solution is either difficult or intractable. In these cases, numerical solution solution is the only choice for calculating a solution to the optimization problem.\n",
    "\n",
    "The following cell demonstrates the use of the `scipy` optimization library. The  value of $q$ that maximizes $\\bar{C}_B$ can be found using the function `scipy.minimize_scalar`. Note the change in sign needed to convert the  `cstr` function from a maximization to a minimization problem for use with `minimize_scalar`."
   ]
  },
  {
   "cell_type": "code",
   "execution_count": 3,
   "metadata": {},
   "outputs": [
    {
     "data": {
      "text/plain": [
       "     fun: -0.9549150281252629\n",
       "    nfev: 18\n",
       "     nit: 14\n",
       " success: True\n",
       "       x: 8.944272016904383"
      ]
     },
     "execution_count": 3,
     "metadata": {},
     "output_type": "execute_result"
    }
   ],
   "source": [
    "from scipy.optimize import minimize_scalar\n",
    "\n",
    "V = 40     # liters\n",
    "kA = 0.5   # 1/min\n",
    "kB = 0.1   # l/min\n",
    "CAf = 2.0  # moles/liter\n",
    "\n",
    "def cstr(q):\n",
    "    return -q*V*kA*CAf/(q + V*kB)/(q + V*kA)\n",
    "\n",
    "results = minimize_scalar(cstr, bracket=[0,50])\n",
    "results"
   ]
  },
  {
   "cell_type": "markdown",
   "metadata": {},
   "source": [
    "The following cell shows how to access the components of the solution obtained from `scipy.minimize_scalar`."
   ]
  },
  {
   "cell_type": "code",
   "execution_count": 4,
   "metadata": {},
   "outputs": [
    {
     "name": "stdout",
     "output_type": "stream",
     "text": [
      "Flowrate at maximum CB =  8.944272016904383 liters per minute.\n",
      "Maximum CB = 0.9549150281252629 moles per liter.\n",
      "Productivity =  8.54101976458225 moles per minute.\n"
     ]
    }
   ],
   "source": [
    "if results.success:\n",
    "    qmax = results.x\n",
    "    CBmax = -results.fun\n",
    "    print('Flowrate at maximum CB = ', qmax, 'liters per minute.')\n",
    "    print('Maximum CB =', CBmax, 'moles per liter.')\n",
    "    print('Productivity = ', qmax*CBmax, 'moles per minute.')\n",
    "else:\n",
    "    print('No solution found.')"
   ]
  },
  {
   "cell_type": "markdown",
   "metadata": {},
   "source": [
    "## [Bonus Discussion] Batch Reactor\n",
    "\n",
    "A material balance for an isothermal stirred batch reactor with a volume $V = 40$ liters and an initial concentration $C_{A,f}$ is given by\n",
    "\n",
    "\\begin{align}\n",
    "V\\frac{dC_A}{dt} & = - V k_A C_A \\\\\n",
    "V\\frac{dC_B}{dt} & = - V k_A C_A - V k_B C_B\n",
    "\\end{align}\n",
    "\n",
    "Eliminating the common factor $V$\n",
    "\n",
    "\\begin{align}\n",
    "\\frac{dC_A}{dt} & = - k_A C_A \\\\\n",
    "\\frac{dC_B}{dt} & = - k_A C_A - V k_B C_B\n",
    "\\end{align}\n",
    "\n",
    "With an initial concentration $C_{A,f}$. A numerical solution to these equations is shown in the following cell."
   ]
  },
  {
   "cell_type": "code",
   "execution_count": 5,
   "metadata": {},
   "outputs": [
    {
     "data": {
      "text/plain": [
       "<matplotlib.legend.Legend at 0x15d261ca0>"
      ]
     },
     "execution_count": 5,
     "metadata": {},
     "output_type": "execute_result"
    },
    {
     "data": {
      "image/png": "[encoded data removed]",
      "text/plain": [
       "<Figure size 432x288 with 1 Axes>"
      ]
     },
     "metadata": {
      "needs_background": "light"
     },
     "output_type": "display_data"
    }
   ],
   "source": [
    "%matplotlib inline\n",
    "import matplotlib.pyplot as plt\n",
    "import numpy as np\n",
    "from scipy.integrate import odeint\n",
    "\n",
    "V = 40     # liters\n",
    "kA = 0.5   # 1/min\n",
    "kB = 0.1   # l/min\n",
    "CAf = 2.0  # moles/liter\n",
    "\n",
    "def batch(X, t):\n",
    "    CA, CB = X\n",
    "    dCA_dt = -kA*CA\n",
    "    dCB_dt = kA*CA - kB*CB\n",
    "    return [dCA_dt, dCB_dt]\n",
    "\n",
    "t = np.linspace(0,30,200)\n",
    "soln = odeint(batch, [CAf,0], t)\n",
    "plt.plot(t, soln)\n",
    "plt.xlabel('time / minutes')\n",
    "plt.ylabel('concentration / moles per liter')\n",
    "plt.title('Batch Reactor')\n",
    "plt.legend(['$C_A$','$C_B$'])"
   ]
  },
  {
   "cell_type": "markdown",
   "metadata": {},
   "source": [
    "To find the maximum value, we first write a function to compute $C_B$ for any value of time $t$."
   ]
  },
  {
   "cell_type": "code",
   "execution_count": 6,
   "metadata": {},
   "outputs": [],
   "source": [
    "def CB(t):\n",
    "    soln = odeint(batch, [CAf, 0], [0, t])\n",
    "    return soln[-1][1]"
   ]
  },
  {
   "cell_type": "markdown",
   "metadata": {},
   "source": [
    "We gain use `minimize_scalar` to find the value of $t$ that minimizes the negative value of $C_B(t)$.|"
   ]
  },
  {
   "cell_type": "code",
   "execution_count": 7,
   "metadata": {},
   "outputs": [
    {
     "data": {
      "text/plain": [
       "     fun: -1.3374806339222158\n",
       "    nfev: 23\n",
       "     nit: 19\n",
       " success: True\n",
       "       x: 4.023594924340666"
      ]
     },
     "execution_count": 7,
     "metadata": {},
     "output_type": "execute_result"
    }
   ],
   "source": [
    "from scipy.optimize import minimize_scalar\n",
    "minimize_scalar(lambda t: -CB(t), bracket=[0,50])"
   ]
  },
  {
   "cell_type": "code",
   "execution_count": 8,
   "metadata": {},
   "outputs": [
    {
     "name": "stdout",
     "output_type": "stream",
     "text": [
      "Concentration C_B has maximum 1.3374806339222158 moles/liter at time 4.023594924340666 minutes.\n",
      "Maximum productivity of the batch reactor is 13.296374601042967 moles per minute.\n"
     ]
    }
   ],
   "source": [
    "tmax = minimize_scalar(lambda t: -CB(t), bracket=[0,50]).x\n",
    "\n",
    "print('Concentration C_B has maximum', CB(tmax), 'moles/liter at time', tmax, 'minutes.')\n",
    "print('Maximum productivity of the batch reactor is', V*CB(tmax)/tmax, 'moles per minute.')"
   ]
  },
  {
   "cell_type": "code",
   "execution_count": null,
   "metadata": {},
   "outputs": [],
   "source": []
  },
  {
   "cell_type": "code",
   "execution_count": null,
   "metadata": {},
   "outputs": [],
   "source": []
  },
  {
   "cell_type": "code",
   "execution_count": null,
   "metadata": {},
   "outputs": [],
   "source": []
  }
 ],
 "metadata": {
  "kernelspec": {
   "display_name": "Python 3 (ipykernel)",
   "language": "python",
   "name": "python3"
  },
  "language_info": {
   "codemirror_mode": {
    "name": "ipython",
    "version": 3
   },
   "file_extension": ".py",
   "mimetype": "text/x-python",
   "name": "python",
   "nbconvert_exporter": "python",
   "pygments_lexer": "ipython3",
   "version": "3.9.7"
  }
 },
 "nbformat": 4,
 "nbformat_minor": 2
}
