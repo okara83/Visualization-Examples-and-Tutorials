{
 "cells": [
  {
   "cell_type": "markdown",
   "metadata": {},
   "source": [
    "# Path Constraints\n",
    "\n",
    "https://github.com/Pyomo/pyomo/blob/master/examples/dae/Path_Constraint.py"
   ]
  },
  {
   "cell_type": "code",
   "execution_count": 1,
   "metadata": {},
   "outputs": [],
   "source": [
    "#\n",
    "#  Pyomo: Python Optimization Modeling Objects\n",
    "#  Copyright 2017 National Technology and Engineering Solutions of Sandia, LLC\n",
    "#  Under the terms of Contract DE-NA0003525 with National Technology and \n",
    "#  Engineering Solutions of Sandia, LLC, the U.S. Government retains certain \n",
    "#  rights in this software.\n",
    "#  This software is distributed under the 3-clause BSD License.\n",
    "\n",
    "# Sample Problem 3: Inequality State Path Constraint\n",
    "# (Ex 4 from Dynopt Guide)\n",
    "#\n",
    "#   min x3(tf)\n",
    "#   s.t.    X1_dot = X2                     X1(0) =  0\n",
    "#           X2_dot = -X2+u                  X2(0) = -1\n",
    "#           X3_dot = X1^2+x2^2+0.005*u^2    X3(0) =  0\n",
    "#           X2-8*(t-0.5)^2+0.5 <= 0\n",
    "#           tf = 1\n",
    "#"
   ]
  },
  {
   "cell_type": "code",
   "execution_count": 2,
   "metadata": {},
   "outputs": [],
   "source": [
    "from pyomo.environ import *\n",
    "from pyomo.dae import *\n",
    "\n",
    "m = ConcreteModel()\n",
    "m.tf = Param(initialize=1)\n",
    "m.t = ContinuousSet(bounds=(0,m.tf))\n",
    "\n",
    "m.u = Var(m.t, initialize=0)\n",
    "m.x1 = Var(m.t)\n",
    "m.x2 = Var(m.t)\n",
    "m.x3 = Var(m.t)\n",
    "\n",
    "m.dx1 = DerivativeVar(m.x1, wrt=m.t)\n",
    "m.dx2 = DerivativeVar(m.x2, wrt=m.t)\n",
    "m.dx3 = DerivativeVar(m.x3, wrt=m.t)\n",
    "\n",
    "m.obj = Objective(expr=m.x3[m.tf])\n",
    "\n",
    "def _x1dot(m, t):\n",
    "    if t == 0:\n",
    "        return Constraint.Skip\n",
    "    return m.dx1[t] == m.x2[t]\n",
    "m.x1dotcon = Constraint(m.t, rule=_x1dot)\n",
    "\n",
    "def _x2dot(m, t):\n",
    "    if t == 0:\n",
    "        return Constraint.Skip\n",
    "\n",
    "    return m.dx2[t] ==  -m.x2[t]+m.u[t]\n",
    "m.x2dotcon = Constraint(m.t, rule=_x2dot)\n",
    "\n",
    "def _x3dot(m, t):\n",
    "    if t == 0:\n",
    "        return Constraint.Skip\n",
    "\n",
    "    return m.dx3[t] == m.x1[t]**2+m.x2[t]**2+0.005*m.u[t]**2\n",
    "m.x3dotcon = Constraint(m.t, rule=_x3dot)\n",
    "\n",
    "def _con(m, t):\n",
    "    return m.x2[t]-8*(t-0.5)**2+0.5 <= 0\n",
    "m.con = Constraint(m.t, rule=_con)\n",
    "\n",
    "def _init(m):\n",
    "    yield m.x1[0] == 0\n",
    "    yield m.x2[0] == -1\n",
    "    yield m.x3[0] == 0\n",
    "m.init_conditions = ConstraintList(rule=_init)"
   ]
  },
  {
   "cell_type": "code",
   "execution_count": 3,
   "metadata": {},
   "outputs": [
    {
     "ename": "ValueError",
     "evalue": "key 'method' not defined for ConfigDict '' and implicit (undefined) keys are not allowed",
     "output_type": "error",
     "traceback": [
      "\u001b[0;31m---------------------------------------------------------------------------\u001b[0m",
      "\u001b[0;31mValueError\u001b[0m                                Traceback (most recent call last)",
      "\u001b[0;32m/var/folders/sd/1vc_q83x5rn9jjrd0x47_cc00000gn/T/ipykernel_78065/2405409814.py\u001b[0m in \u001b[0;36m<module>\u001b[0;34m\u001b[0m\n\u001b[1;32m      1\u001b[0m \u001b[0;31m# transform and solve\u001b[0m\u001b[0;34m\u001b[0m\u001b[0;34m\u001b[0m\u001b[0m\n\u001b[0;32m----> 2\u001b[0;31m \u001b[0mTransformationFactory\u001b[0m\u001b[0;34m(\u001b[0m\u001b[0;34m'dae.collocation'\u001b[0m\u001b[0;34m)\u001b[0m\u001b[0;34m.\u001b[0m\u001b[0mapply_to\u001b[0m\u001b[0;34m(\u001b[0m\u001b[0mm\u001b[0m\u001b[0;34m,\u001b[0m \u001b[0mwrt\u001b[0m\u001b[0;34m=\u001b[0m\u001b[0mm\u001b[0m\u001b[0;34m.\u001b[0m\u001b[0mt\u001b[0m\u001b[0;34m,\u001b[0m \u001b[0mnfe\u001b[0m\u001b[0;34m=\u001b[0m\u001b[0;36m3\u001b[0m\u001b[0;34m,\u001b[0m \u001b[0mncp\u001b[0m\u001b[0;34m=\u001b[0m\u001b[0;36m12\u001b[0m\u001b[0;34m,\u001b[0m \u001b[0mmethod\u001b[0m\u001b[0;34m=\u001b[0m\u001b[0;34m'BACKWARD'\u001b[0m\u001b[0;34m)\u001b[0m\u001b[0;34m\u001b[0m\u001b[0;34m\u001b[0m\u001b[0m\n\u001b[0m\u001b[1;32m      3\u001b[0m \u001b[0mSolverFactory\u001b[0m\u001b[0;34m(\u001b[0m\u001b[0;34m'ipopt'\u001b[0m\u001b[0;34m)\u001b[0m\u001b[0;34m.\u001b[0m\u001b[0msolve\u001b[0m\u001b[0;34m(\u001b[0m\u001b[0mm\u001b[0m\u001b[0;34m)\u001b[0m\u001b[0;34m.\u001b[0m\u001b[0mwrite\u001b[0m\u001b[0;34m(\u001b[0m\u001b[0;34m)\u001b[0m\u001b[0;34m\u001b[0m\u001b[0;34m\u001b[0m\u001b[0m\n",
      "\u001b[0;32m/usr/local/lib/python3.9/site-packages/pyomo/core/base/transformation.py\u001b[0m in \u001b[0;36mapply_to\u001b[0;34m(self, model, **kwds)\u001b[0m\n\u001b[1;32m     67\u001b[0m         \u001b[0;32mif\u001b[0m \u001b[0;32mnot\u001b[0m \u001b[0mhasattr\u001b[0m\u001b[0;34m(\u001b[0m\u001b[0mmodel\u001b[0m\u001b[0;34m,\u001b[0m \u001b[0;34m'_transformation_data'\u001b[0m\u001b[0;34m)\u001b[0m\u001b[0;34m:\u001b[0m\u001b[0;34m\u001b[0m\u001b[0;34m\u001b[0m\u001b[0m\n\u001b[1;32m     68\u001b[0m             \u001b[0mmodel\u001b[0m\u001b[0;34m.\u001b[0m\u001b[0m_transformation_data\u001b[0m \u001b[0;34m=\u001b[0m \u001b[0mTransformationData\u001b[0m\u001b[0;34m(\u001b[0m\u001b[0;34m)\u001b[0m\u001b[0;34m\u001b[0m\u001b[0;34m\u001b[0m\u001b[0m\n\u001b[0;32m---> 69\u001b[0;31m         \u001b[0mself\u001b[0m\u001b[0;34m.\u001b[0m\u001b[0m_apply_to\u001b[0m\u001b[0;34m(\u001b[0m\u001b[0mmodel\u001b[0m\u001b[0;34m,\u001b[0m \u001b[0;34m**\u001b[0m\u001b[0mkwds\u001b[0m\u001b[0;34m)\u001b[0m\u001b[0;34m\u001b[0m\u001b[0;34m\u001b[0m\u001b[0m\n\u001b[0m\u001b[1;32m     70\u001b[0m         \u001b[0mtimer\u001b[0m\u001b[0;34m.\u001b[0m\u001b[0mreport\u001b[0m\u001b[0;34m(\u001b[0m\u001b[0;34m)\u001b[0m\u001b[0;34m\u001b[0m\u001b[0;34m\u001b[0m\u001b[0m\n\u001b[1;32m     71\u001b[0m \u001b[0;34m\u001b[0m\u001b[0m\n",
      "\u001b[0;32m/usr/local/lib/python3.9/site-packages/pyomo/dae/plugins/colloc.py\u001b[0m in \u001b[0;36m_apply_to\u001b[0;34m(self, instance, **kwds)\u001b[0m\n\u001b[1;32m    367\u001b[0m         \"\"\"\n\u001b[1;32m    368\u001b[0m \u001b[0;34m\u001b[0m\u001b[0m\n\u001b[0;32m--> 369\u001b[0;31m         \u001b[0mconfig\u001b[0m \u001b[0;34m=\u001b[0m \u001b[0mself\u001b[0m\u001b[0;34m.\u001b[0m\u001b[0mCONFIG\u001b[0m\u001b[0;34m(\u001b[0m\u001b[0mkwds\u001b[0m\u001b[0;34m)\u001b[0m\u001b[0;34m\u001b[0m\u001b[0;34m\u001b[0m\u001b[0m\n\u001b[0m\u001b[1;32m    370\u001b[0m \u001b[0;34m\u001b[0m\u001b[0m\n\u001b[1;32m    371\u001b[0m         \u001b[0mtmpnfe\u001b[0m \u001b[0;34m=\u001b[0m \u001b[0mconfig\u001b[0m\u001b[0;34m.\u001b[0m\u001b[0mnfe\u001b[0m\u001b[0;34m\u001b[0m\u001b[0;34m\u001b[0m\u001b[0m\n",
      "\u001b[0;32m/usr/local/lib/python3.9/site-packages/pyomo/common/config.py\u001b[0m in \u001b[0;36m__call__\u001b[0;34m(self, value, default, domain, description, doc, visibility, implicit, implicit_domain, preserve_implicit)\u001b[0m\n\u001b[1;32m   1230\u001b[0m         \u001b[0;31m# ... and set the value, if appropriate\u001b[0m\u001b[0;34m\u001b[0m\u001b[0;34m\u001b[0m\u001b[0m\n\u001b[1;32m   1231\u001b[0m         \u001b[0;32mif\u001b[0m \u001b[0mvalue\u001b[0m \u001b[0;32mis\u001b[0m \u001b[0;32mnot\u001b[0m \u001b[0mNoArgumentGiven\u001b[0m\u001b[0;34m:\u001b[0m\u001b[0;34m\u001b[0m\u001b[0;34m\u001b[0m\u001b[0m\n\u001b[0;32m-> 1232\u001b[0;31m             \u001b[0mans\u001b[0m\u001b[0;34m.\u001b[0m\u001b[0mset_value\u001b[0m\u001b[0;34m(\u001b[0m\u001b[0mvalue\u001b[0m\u001b[0;34m)\u001b[0m\u001b[0;34m\u001b[0m\u001b[0;34m\u001b[0m\u001b[0m\n\u001b[0m\u001b[1;32m   1233\u001b[0m         \u001b[0;32mreturn\u001b[0m \u001b[0mans\u001b[0m\u001b[0;34m\u001b[0m\u001b[0;34m\u001b[0m\u001b[0m\n\u001b[1;32m   1234\u001b[0m \u001b[0;34m\u001b[0m\u001b[0m\n",
      "\u001b[0;32m/usr/local/lib/python3.9/site-packages/pyomo/common/config.py\u001b[0m in \u001b[0;36mset_value\u001b[0;34m(self, value, skip_implicit)\u001b[0m\n\u001b[1;32m   2176\u001b[0m                     \u001b[0m_implicit\u001b[0m\u001b[0;34m.\u001b[0m\u001b[0mappend\u001b[0m\u001b[0;34m(\u001b[0m\u001b[0mkey\u001b[0m\u001b[0;34m)\u001b[0m\u001b[0;34m\u001b[0m\u001b[0;34m\u001b[0m\u001b[0m\n\u001b[1;32m   2177\u001b[0m                 \u001b[0;32melse\u001b[0m\u001b[0;34m:\u001b[0m\u001b[0;34m\u001b[0m\u001b[0;34m\u001b[0m\u001b[0m\n\u001b[0;32m-> 2178\u001b[0;31m                     raise ValueError(\n\u001b[0m\u001b[1;32m   2179\u001b[0m                         \u001b[0;34m\"key '%s' not defined for ConfigDict '%s' and \"\u001b[0m\u001b[0;34m\u001b[0m\u001b[0;34m\u001b[0m\u001b[0m\n\u001b[1;32m   2180\u001b[0m                         \u001b[0;34m\"implicit (undefined) keys are not allowed\"\u001b[0m \u001b[0;34m%\u001b[0m\u001b[0;34m\u001b[0m\u001b[0;34m\u001b[0m\u001b[0m\n",
      "\u001b[0;31mValueError\u001b[0m: key 'method' not defined for ConfigDict '' and implicit (undefined) keys are not allowed"
     ]
    }
   ],
   "source": [
    "# transform and solve\n",
    "TransformationFactory('dae.collocation').apply_to(m, wrt=m.t, nfe=3, ncp=12, method='BACKWARD')\n",
    "SolverFactory('ipopt').solve(m).write()"
   ]
  },
  {
   "cell_type": "code",
   "execution_count": 4,
   "metadata": {},
   "outputs": [
    {
     "data": {
      "text/plain": [
       "[<matplotlib.lines.Line2D at 0x10cd90880>]"
      ]
     },
     "execution_count": 4,
     "metadata": {},
     "output_type": "execute_result"
    },
    {
     "data": {
      "image/png": "[encoded data removed]",
      "text/plain": [
       "<Figure size 720x864 with 4 Axes>"
      ]
     },
     "metadata": {
      "needs_background": "light"
     },
     "output_type": "display_data"
    }
   ],
   "source": [
    "%matplotlib inline\n",
    "import matplotlib.pyplot as plt\n",
    "import numpy as np\n",
    "\n",
    "t = [t for t in m.t]\n",
    "\n",
    "u = [m.u[t]() for t in t]\n",
    "x1 = [m.x1[t]() for t in m.x1]\n",
    "x2 = [m.x2[t]() for t in m.x2]\n",
    "x3 = [m.x3[t]() for t in m.x3]\n",
    "\n",
    "plt.figure(figsize=(10,12))\n",
    "plt.subplot(4,1,1)\n",
    "plt.plot(t, x1)\n",
    "\n",
    "#X2-8*(t-0.5)^2+0.5 <= 0\n",
    "\n",
    "plt.subplot(4,1,2)\n",
    "plt.plot(t, x2)\n",
    "plt.plot(t, 8*(np.array(t)-0.5)**2 - 0.5)\n",
    "\n",
    "plt.subplot(4,1,3)\n",
    "plt.plot(t, x3)\n",
    "\n",
    "plt.subplot(4,1,4)\n",
    "plt.plot(t, u)"
   ]
  },
  {
   "cell_type": "markdown",
   "metadata": {},
   "source": [
    "## Recoding for Compact Style"
   ]
  },
  {
   "cell_type": "code",
   "execution_count": 5,
   "metadata": {},
   "outputs": [
    {
     "data": {
      "text/plain": [
       "<pyomo.core.base.constraint._GeneralConstraintData at 0x10d45e760>"
      ]
     },
     "execution_count": 5,
     "metadata": {},
     "output_type": "execute_result"
    }
   ],
   "source": [
    "from pyomo.environ import *\n",
    "from pyomo.dae import *\n",
    "\n",
    "m = ConcreteModel()\n",
    "m.tf = Param(initialize=1)\n",
    "m.t = ContinuousSet(bounds=(0, m.tf))\n",
    "\n",
    "m.u = Var(m.t, initialize=0)\n",
    "m.x1 = Var(m.t)\n",
    "m.x2 = Var(m.t)\n",
    "m.x3 = Var(m.t)\n",
    "\n",
    "m.dx1 = DerivativeVar(m.x1)\n",
    "m.dx2 = DerivativeVar(m.x2)\n",
    "m.dx3 = DerivativeVar(m.x3)\n",
    "\n",
    "m.obj = Objective(expr=m.x3[m.tf])\n",
    "\n",
    "m.x1dotcon = Constraint(m.t, rule=lambda m, t: m.dx1[t] == m.x2[t])\n",
    "m.x2dotcon = Constraint(m.t, rule=lambda m, t: m.dx2[t] == -m.x2[t] + m.u[t])\n",
    "m.x3dotcon = Constraint(m.t, rule=lambda m, t: m.dx3[t] == m.x1[t]**2+m.x2[t]**2+0.005*m.u[t]**2)\n",
    "m.con = Constraint(m.t, rule=lambda m, t: m.x2[t]-8*(t-0.5)**2+0.5 <= 0)\n",
    "\n",
    "m.x1dotcon[0].deactivate()\n",
    "m.x2dotcon[0].deactivate()\n",
    "m.x3dotcon[0].deactivate()\n",
    "\n",
    "m.ic = ConstraintList()\n",
    "m.ic.add(m.x1[0] == 0)\n",
    "m.ic.add(m.x2[0] == -1)\n",
    "m.ic.add(m.x3[0] == 0)"
   ]
  },
  {
   "cell_type": "code",
   "execution_count": 6,
   "metadata": {},
   "outputs": [
    {
     "ename": "ValueError",
     "evalue": "key 'method' not defined for ConfigDict '' and implicit (undefined) keys are not allowed",
     "output_type": "error",
     "traceback": [
      "\u001b[0;31m---------------------------------------------------------------------------\u001b[0m",
      "\u001b[0;31mValueError\u001b[0m                                Traceback (most recent call last)",
      "\u001b[0;32m/var/folders/sd/1vc_q83x5rn9jjrd0x47_cc00000gn/T/ipykernel_78065/971214517.py\u001b[0m in \u001b[0;36m<module>\u001b[0;34m\u001b[0m\n\u001b[1;32m      1\u001b[0m \u001b[0;31m# transform and solve\u001b[0m\u001b[0;34m\u001b[0m\u001b[0;34m\u001b[0m\u001b[0m\n\u001b[0;32m----> 2\u001b[0;31m \u001b[0mTransformationFactory\u001b[0m\u001b[0;34m(\u001b[0m\u001b[0;34m'dae.collocation'\u001b[0m\u001b[0;34m)\u001b[0m\u001b[0;34m.\u001b[0m\u001b[0mapply_to\u001b[0m\u001b[0;34m(\u001b[0m\u001b[0mm\u001b[0m\u001b[0;34m,\u001b[0m \u001b[0mwrt\u001b[0m\u001b[0;34m=\u001b[0m\u001b[0mm\u001b[0m\u001b[0;34m.\u001b[0m\u001b[0mt\u001b[0m\u001b[0;34m,\u001b[0m \u001b[0mnfe\u001b[0m\u001b[0;34m=\u001b[0m\u001b[0;36m3\u001b[0m\u001b[0;34m,\u001b[0m \u001b[0mncp\u001b[0m\u001b[0;34m=\u001b[0m\u001b[0;36m12\u001b[0m\u001b[0;34m,\u001b[0m \u001b[0mmethod\u001b[0m\u001b[0;34m=\u001b[0m\u001b[0;34m'BACKWARD'\u001b[0m\u001b[0;34m)\u001b[0m\u001b[0;34m\u001b[0m\u001b[0;34m\u001b[0m\u001b[0m\n\u001b[0m\u001b[1;32m      3\u001b[0m \u001b[0mSolverFactory\u001b[0m\u001b[0;34m(\u001b[0m\u001b[0;34m'ipopt'\u001b[0m\u001b[0;34m)\u001b[0m\u001b[0;34m.\u001b[0m\u001b[0msolve\u001b[0m\u001b[0;34m(\u001b[0m\u001b[0mm\u001b[0m\u001b[0;34m)\u001b[0m\u001b[0;34m.\u001b[0m\u001b[0mwrite\u001b[0m\u001b[0;34m(\u001b[0m\u001b[0;34m)\u001b[0m\u001b[0;34m\u001b[0m\u001b[0;34m\u001b[0m\u001b[0m\n\u001b[1;32m      4\u001b[0m \u001b[0;34m\u001b[0m\u001b[0m\n\u001b[1;32m      5\u001b[0m \u001b[0mget_ipython\u001b[0m\u001b[0;34m(\u001b[0m\u001b[0;34m)\u001b[0m\u001b[0;34m.\u001b[0m\u001b[0mrun_line_magic\u001b[0m\u001b[0;34m(\u001b[0m\u001b[0;34m'matplotlib'\u001b[0m\u001b[0;34m,\u001b[0m \u001b[0;34m'inline'\u001b[0m\u001b[0;34m)\u001b[0m\u001b[0;34m\u001b[0m\u001b[0;34m\u001b[0m\u001b[0m\n",
      "\u001b[0;32m/usr/local/lib/python3.9/site-packages/pyomo/core/base/transformation.py\u001b[0m in \u001b[0;36mapply_to\u001b[0;34m(self, model, **kwds)\u001b[0m\n\u001b[1;32m     67\u001b[0m         \u001b[0;32mif\u001b[0m \u001b[0;32mnot\u001b[0m \u001b[0mhasattr\u001b[0m\u001b[0;34m(\u001b[0m\u001b[0mmodel\u001b[0m\u001b[0;34m,\u001b[0m \u001b[0;34m'_transformation_data'\u001b[0m\u001b[0;34m)\u001b[0m\u001b[0;34m:\u001b[0m\u001b[0;34m\u001b[0m\u001b[0;34m\u001b[0m\u001b[0m\n\u001b[1;32m     68\u001b[0m             \u001b[0mmodel\u001b[0m\u001b[0;34m.\u001b[0m\u001b[0m_transformation_data\u001b[0m \u001b[0;34m=\u001b[0m \u001b[0mTransformationData\u001b[0m\u001b[0;34m(\u001b[0m\u001b[0;34m)\u001b[0m\u001b[0;34m\u001b[0m\u001b[0;34m\u001b[0m\u001b[0m\n\u001b[0;32m---> 69\u001b[0;31m         \u001b[0mself\u001b[0m\u001b[0;34m.\u001b[0m\u001b[0m_apply_to\u001b[0m\u001b[0;34m(\u001b[0m\u001b[0mmodel\u001b[0m\u001b[0;34m,\u001b[0m \u001b[0;34m**\u001b[0m\u001b[0mkwds\u001b[0m\u001b[0;34m)\u001b[0m\u001b[0;34m\u001b[0m\u001b[0;34m\u001b[0m\u001b[0m\n\u001b[0m\u001b[1;32m     70\u001b[0m         \u001b[0mtimer\u001b[0m\u001b[0;34m.\u001b[0m\u001b[0mreport\u001b[0m\u001b[0;34m(\u001b[0m\u001b[0;34m)\u001b[0m\u001b[0;34m\u001b[0m\u001b[0;34m\u001b[0m\u001b[0m\n\u001b[1;32m     71\u001b[0m \u001b[0;34m\u001b[0m\u001b[0m\n",
      "\u001b[0;32m/usr/local/lib/python3.9/site-packages/pyomo/dae/plugins/colloc.py\u001b[0m in \u001b[0;36m_apply_to\u001b[0;34m(self, instance, **kwds)\u001b[0m\n\u001b[1;32m    367\u001b[0m         \"\"\"\n\u001b[1;32m    368\u001b[0m \u001b[0;34m\u001b[0m\u001b[0m\n\u001b[0;32m--> 369\u001b[0;31m         \u001b[0mconfig\u001b[0m \u001b[0;34m=\u001b[0m \u001b[0mself\u001b[0m\u001b[0;34m.\u001b[0m\u001b[0mCONFIG\u001b[0m\u001b[0;34m(\u001b[0m\u001b[0mkwds\u001b[0m\u001b[0;34m)\u001b[0m\u001b[0;34m\u001b[0m\u001b[0;34m\u001b[0m\u001b[0m\n\u001b[0m\u001b[1;32m    370\u001b[0m \u001b[0;34m\u001b[0m\u001b[0m\n\u001b[1;32m    371\u001b[0m         \u001b[0mtmpnfe\u001b[0m \u001b[0;34m=\u001b[0m \u001b[0mconfig\u001b[0m\u001b[0;34m.\u001b[0m\u001b[0mnfe\u001b[0m\u001b[0;34m\u001b[0m\u001b[0;34m\u001b[0m\u001b[0m\n",
      "\u001b[0;32m/usr/local/lib/python3.9/site-packages/pyomo/common/config.py\u001b[0m in \u001b[0;36m__call__\u001b[0;34m(self, value, default, domain, description, doc, visibility, implicit, implicit_domain, preserve_implicit)\u001b[0m\n\u001b[1;32m   1230\u001b[0m         \u001b[0;31m# ... and set the value, if appropriate\u001b[0m\u001b[0;34m\u001b[0m\u001b[0;34m\u001b[0m\u001b[0m\n\u001b[1;32m   1231\u001b[0m         \u001b[0;32mif\u001b[0m \u001b[0mvalue\u001b[0m \u001b[0;32mis\u001b[0m \u001b[0;32mnot\u001b[0m \u001b[0mNoArgumentGiven\u001b[0m\u001b[0;34m:\u001b[0m\u001b[0;34m\u001b[0m\u001b[0;34m\u001b[0m\u001b[0m\n\u001b[0;32m-> 1232\u001b[0;31m             \u001b[0mans\u001b[0m\u001b[0;34m.\u001b[0m\u001b[0mset_value\u001b[0m\u001b[0;34m(\u001b[0m\u001b[0mvalue\u001b[0m\u001b[0;34m)\u001b[0m\u001b[0;34m\u001b[0m\u001b[0;34m\u001b[0m\u001b[0m\n\u001b[0m\u001b[1;32m   1233\u001b[0m         \u001b[0;32mreturn\u001b[0m \u001b[0mans\u001b[0m\u001b[0;34m\u001b[0m\u001b[0;34m\u001b[0m\u001b[0m\n\u001b[1;32m   1234\u001b[0m \u001b[0;34m\u001b[0m\u001b[0m\n",
      "\u001b[0;32m/usr/local/lib/python3.9/site-packages/pyomo/common/config.py\u001b[0m in \u001b[0;36mset_value\u001b[0;34m(self, value, skip_implicit)\u001b[0m\n\u001b[1;32m   2176\u001b[0m                     \u001b[0m_implicit\u001b[0m\u001b[0;34m.\u001b[0m\u001b[0mappend\u001b[0m\u001b[0;34m(\u001b[0m\u001b[0mkey\u001b[0m\u001b[0;34m)\u001b[0m\u001b[0;34m\u001b[0m\u001b[0;34m\u001b[0m\u001b[0m\n\u001b[1;32m   2177\u001b[0m                 \u001b[0;32melse\u001b[0m\u001b[0;34m:\u001b[0m\u001b[0;34m\u001b[0m\u001b[0;34m\u001b[0m\u001b[0m\n\u001b[0;32m-> 2178\u001b[0;31m                     raise ValueError(\n\u001b[0m\u001b[1;32m   2179\u001b[0m                         \u001b[0;34m\"key '%s' not defined for ConfigDict '%s' and \"\u001b[0m\u001b[0;34m\u001b[0m\u001b[0;34m\u001b[0m\u001b[0m\n\u001b[1;32m   2180\u001b[0m                         \u001b[0;34m\"implicit (undefined) keys are not allowed\"\u001b[0m \u001b[0;34m%\u001b[0m\u001b[0;34m\u001b[0m\u001b[0;34m\u001b[0m\u001b[0m\n",
      "\u001b[0;31mValueError\u001b[0m: key 'method' not defined for ConfigDict '' and implicit (undefined) keys are not allowed"
     ]
    }
   ],
   "source": [
    "# transform and solve\n",
    "TransformationFactory('dae.collocation').apply_to(m, wrt=m.t, nfe=3, ncp=12, method='BACKWARD')\n",
    "SolverFactory('ipopt').solve(m).write()\n",
    "\n",
    "%matplotlib inline\n",
    "import matplotlib.pyplot as plt\n",
    "import numpy as np\n",
    "\n",
    "t = [t for t in m.t]\n",
    "\n",
    "u = [m.u[t]() for t in t]\n",
    "x1 = [m.x1[t]() for t in m.x1]\n",
    "x2 = [m.x2[t]() for t in m.x2]\n",
    "x3 = [m.x3[t]() for t in m.x3]\n",
    "\n",
    "plt.figure(figsize=(10,12))\n",
    "plt.subplot(4,1,1)\n",
    "plt.plot(t, x1)\n",
    "\n",
    "#X2-8*(t-0.5)^2+0.5 <= 0\n",
    "\n",
    "plt.subplot(4,1,2)\n",
    "plt.plot(t, x2)\n",
    "plt.plot(t, 8*(np.array(t)-0.5)**2 - 0.5)\n",
    "\n",
    "plt.subplot(4,1,3)\n",
    "plt.plot(t, x3)\n",
    "\n",
    "plt.subplot(4,1,4)\n",
    "plt.plot(t, u)"
   ]
  },
  {
   "cell_type": "markdown",
   "metadata": {},
   "source": [
    "## Subscripting Equations"
   ]
  },
  {
   "cell_type": "code",
   "execution_count": 7,
   "metadata": {},
   "outputs": [
    {
     "data": {
      "text/plain": [
       "<pyomo.core.base.constraint._GeneralConstraintData at 0x10d47a5e0>"
      ]
     },
     "execution_count": 7,
     "metadata": {},
     "output_type": "execute_result"
    }
   ],
   "source": [
    "from pyomo.environ import *\n",
    "from pyomo.dae import *\n",
    "\n",
    "m = ConcreteModel()\n",
    "m.tf = Param(initialize=1)\n",
    "m.t = ContinuousSet(bounds=(0, m.tf))\n",
    "\n",
    "m.u = Var(m.t, initialize=0)\n",
    "m.N = [1, 2, 3]\n",
    "\n",
    "m.x = Var(m.N, m.t)\n",
    "m.dx = DerivativeVar(m.x)\n",
    "\n",
    "m.obj = Objective(expr=m.x[3,m.tf])\n",
    "\n",
    "def ode(m, n, t):\n",
    "    if t==0: \n",
    "        return Constraint.Skip\n",
    "    odes = {\n",
    "        1: m.dx[1,t] == m.x[2,t],\n",
    "        2: m.dx[2,t] == -m.x[2,t] + m.u[t],\n",
    "        3: m.dx[3,t] == m.x[1,t]**2 + m.x[2,t]**2 + 0.005*m.u[t]**2\n",
    "    }\n",
    "    return odes[n]\n",
    "m.ode = Constraint(m.N, m.t, rule=ode)\n",
    "m.con = Constraint(m.t, rule=lambda m, t: m.x[2,t]-8*(t-0.5)**2+0.5 <= 0)\n",
    "\n",
    "m.ic = ConstraintList()\n",
    "m.ic.add(m.x[1,0] == 0)\n",
    "m.ic.add(m.x[2,0] == -1)\n",
    "m.ic.add(m.x[3,0] == 0)"
   ]
  },
  {
   "cell_type": "code",
   "execution_count": 8,
   "metadata": {},
   "outputs": [
    {
     "ename": "ValueError",
     "evalue": "key 'method' not defined for ConfigDict '' and implicit (undefined) keys are not allowed",
     "output_type": "error",
     "traceback": [
      "\u001b[0;31m---------------------------------------------------------------------------\u001b[0m",
      "\u001b[0;31mValueError\u001b[0m                                Traceback (most recent call last)",
      "\u001b[0;32m/var/folders/sd/1vc_q83x5rn9jjrd0x47_cc00000gn/T/ipykernel_78065/1229182344.py\u001b[0m in \u001b[0;36m<module>\u001b[0;34m\u001b[0m\n\u001b[1;32m      1\u001b[0m \u001b[0;31m# transform and solve\u001b[0m\u001b[0;34m\u001b[0m\u001b[0;34m\u001b[0m\u001b[0m\n\u001b[0;32m----> 2\u001b[0;31m \u001b[0mTransformationFactory\u001b[0m\u001b[0;34m(\u001b[0m\u001b[0;34m'dae.collocation'\u001b[0m\u001b[0;34m)\u001b[0m\u001b[0;34m.\u001b[0m\u001b[0mapply_to\u001b[0m\u001b[0;34m(\u001b[0m\u001b[0mm\u001b[0m\u001b[0;34m,\u001b[0m \u001b[0mwrt\u001b[0m\u001b[0;34m=\u001b[0m\u001b[0mm\u001b[0m\u001b[0;34m.\u001b[0m\u001b[0mt\u001b[0m\u001b[0;34m,\u001b[0m \u001b[0mnfe\u001b[0m\u001b[0;34m=\u001b[0m\u001b[0;36m3\u001b[0m\u001b[0;34m,\u001b[0m \u001b[0mncp\u001b[0m\u001b[0;34m=\u001b[0m\u001b[0;36m12\u001b[0m\u001b[0;34m,\u001b[0m \u001b[0mmethod\u001b[0m\u001b[0;34m=\u001b[0m\u001b[0;34m'BACKWARD'\u001b[0m\u001b[0;34m)\u001b[0m\u001b[0;34m\u001b[0m\u001b[0;34m\u001b[0m\u001b[0m\n\u001b[0m\u001b[1;32m      3\u001b[0m \u001b[0mSolverFactory\u001b[0m\u001b[0;34m(\u001b[0m\u001b[0;34m'ipopt'\u001b[0m\u001b[0;34m)\u001b[0m\u001b[0;34m.\u001b[0m\u001b[0msolve\u001b[0m\u001b[0;34m(\u001b[0m\u001b[0mm\u001b[0m\u001b[0;34m)\u001b[0m\u001b[0;34m.\u001b[0m\u001b[0mwrite\u001b[0m\u001b[0;34m(\u001b[0m\u001b[0;34m)\u001b[0m\u001b[0;34m\u001b[0m\u001b[0;34m\u001b[0m\u001b[0m\n\u001b[1;32m      4\u001b[0m \u001b[0;34m\u001b[0m\u001b[0m\n\u001b[1;32m      5\u001b[0m \u001b[0mget_ipython\u001b[0m\u001b[0;34m(\u001b[0m\u001b[0;34m)\u001b[0m\u001b[0;34m.\u001b[0m\u001b[0mrun_line_magic\u001b[0m\u001b[0;34m(\u001b[0m\u001b[0;34m'matplotlib'\u001b[0m\u001b[0;34m,\u001b[0m \u001b[0;34m'inline'\u001b[0m\u001b[0;34m)\u001b[0m\u001b[0;34m\u001b[0m\u001b[0;34m\u001b[0m\u001b[0m\n",
      "\u001b[0;32m/usr/local/lib/python3.9/site-packages/pyomo/core/base/transformation.py\u001b[0m in \u001b[0;36mapply_to\u001b[0;34m(self, model, **kwds)\u001b[0m\n\u001b[1;32m     67\u001b[0m         \u001b[0;32mif\u001b[0m \u001b[0;32mnot\u001b[0m \u001b[0mhasattr\u001b[0m\u001b[0;34m(\u001b[0m\u001b[0mmodel\u001b[0m\u001b[0;34m,\u001b[0m \u001b[0;34m'_transformation_data'\u001b[0m\u001b[0;34m)\u001b[0m\u001b[0;34m:\u001b[0m\u001b[0;34m\u001b[0m\u001b[0;34m\u001b[0m\u001b[0m\n\u001b[1;32m     68\u001b[0m             \u001b[0mmodel\u001b[0m\u001b[0;34m.\u001b[0m\u001b[0m_transformation_data\u001b[0m \u001b[0;34m=\u001b[0m \u001b[0mTransformationData\u001b[0m\u001b[0;34m(\u001b[0m\u001b[0;34m)\u001b[0m\u001b[0;34m\u001b[0m\u001b[0;34m\u001b[0m\u001b[0m\n\u001b[0;32m---> 69\u001b[0;31m         \u001b[0mself\u001b[0m\u001b[0;34m.\u001b[0m\u001b[0m_apply_to\u001b[0m\u001b[0;34m(\u001b[0m\u001b[0mmodel\u001b[0m\u001b[0;34m,\u001b[0m \u001b[0;34m**\u001b[0m\u001b[0mkwds\u001b[0m\u001b[0;34m)\u001b[0m\u001b[0;34m\u001b[0m\u001b[0;34m\u001b[0m\u001b[0m\n\u001b[0m\u001b[1;32m     70\u001b[0m         \u001b[0mtimer\u001b[0m\u001b[0;34m.\u001b[0m\u001b[0mreport\u001b[0m\u001b[0;34m(\u001b[0m\u001b[0;34m)\u001b[0m\u001b[0;34m\u001b[0m\u001b[0;34m\u001b[0m\u001b[0m\n\u001b[1;32m     71\u001b[0m \u001b[0;34m\u001b[0m\u001b[0m\n",
      "\u001b[0;32m/usr/local/lib/python3.9/site-packages/pyomo/dae/plugins/colloc.py\u001b[0m in \u001b[0;36m_apply_to\u001b[0;34m(self, instance, **kwds)\u001b[0m\n\u001b[1;32m    367\u001b[0m         \"\"\"\n\u001b[1;32m    368\u001b[0m \u001b[0;34m\u001b[0m\u001b[0m\n\u001b[0;32m--> 369\u001b[0;31m         \u001b[0mconfig\u001b[0m \u001b[0;34m=\u001b[0m \u001b[0mself\u001b[0m\u001b[0;34m.\u001b[0m\u001b[0mCONFIG\u001b[0m\u001b[0;34m(\u001b[0m\u001b[0mkwds\u001b[0m\u001b[0;34m)\u001b[0m\u001b[0;34m\u001b[0m\u001b[0;34m\u001b[0m\u001b[0m\n\u001b[0m\u001b[1;32m    370\u001b[0m \u001b[0;34m\u001b[0m\u001b[0m\n\u001b[1;32m    371\u001b[0m         \u001b[0mtmpnfe\u001b[0m \u001b[0;34m=\u001b[0m \u001b[0mconfig\u001b[0m\u001b[0;34m.\u001b[0m\u001b[0mnfe\u001b[0m\u001b[0;34m\u001b[0m\u001b[0;34m\u001b[0m\u001b[0m\n",
      "\u001b[0;32m/usr/local/lib/python3.9/site-packages/pyomo/common/config.py\u001b[0m in \u001b[0;36m__call__\u001b[0;34m(self, value, default, domain, description, doc, visibility, implicit, implicit_domain, preserve_implicit)\u001b[0m\n\u001b[1;32m   1230\u001b[0m         \u001b[0;31m# ... and set the value, if appropriate\u001b[0m\u001b[0;34m\u001b[0m\u001b[0;34m\u001b[0m\u001b[0m\n\u001b[1;32m   1231\u001b[0m         \u001b[0;32mif\u001b[0m \u001b[0mvalue\u001b[0m \u001b[0;32mis\u001b[0m \u001b[0;32mnot\u001b[0m \u001b[0mNoArgumentGiven\u001b[0m\u001b[0;34m:\u001b[0m\u001b[0;34m\u001b[0m\u001b[0;34m\u001b[0m\u001b[0m\n\u001b[0;32m-> 1232\u001b[0;31m             \u001b[0mans\u001b[0m\u001b[0;34m.\u001b[0m\u001b[0mset_value\u001b[0m\u001b[0;34m(\u001b[0m\u001b[0mvalue\u001b[0m\u001b[0;34m)\u001b[0m\u001b[0;34m\u001b[0m\u001b[0;34m\u001b[0m\u001b[0m\n\u001b[0m\u001b[1;32m   1233\u001b[0m         \u001b[0;32mreturn\u001b[0m \u001b[0mans\u001b[0m\u001b[0;34m\u001b[0m\u001b[0;34m\u001b[0m\u001b[0m\n\u001b[1;32m   1234\u001b[0m \u001b[0;34m\u001b[0m\u001b[0m\n",
      "\u001b[0;32m/usr/local/lib/python3.9/site-packages/pyomo/common/config.py\u001b[0m in \u001b[0;36mset_value\u001b[0;34m(self, value, skip_implicit)\u001b[0m\n\u001b[1;32m   2176\u001b[0m                     \u001b[0m_implicit\u001b[0m\u001b[0;34m.\u001b[0m\u001b[0mappend\u001b[0m\u001b[0;34m(\u001b[0m\u001b[0mkey\u001b[0m\u001b[0;34m)\u001b[0m\u001b[0;34m\u001b[0m\u001b[0;34m\u001b[0m\u001b[0m\n\u001b[1;32m   2177\u001b[0m                 \u001b[0;32melse\u001b[0m\u001b[0;34m:\u001b[0m\u001b[0;34m\u001b[0m\u001b[0;34m\u001b[0m\u001b[0m\n\u001b[0;32m-> 2178\u001b[0;31m                     raise ValueError(\n\u001b[0m\u001b[1;32m   2179\u001b[0m                         \u001b[0;34m\"key '%s' not defined for ConfigDict '%s' and \"\u001b[0m\u001b[0;34m\u001b[0m\u001b[0;34m\u001b[0m\u001b[0m\n\u001b[1;32m   2180\u001b[0m                         \u001b[0;34m\"implicit (undefined) keys are not allowed\"\u001b[0m \u001b[0;34m%\u001b[0m\u001b[0;34m\u001b[0m\u001b[0;34m\u001b[0m\u001b[0m\n",
      "\u001b[0;31mValueError\u001b[0m: key 'method' not defined for ConfigDict '' and implicit (undefined) keys are not allowed"
     ]
    }
   ],
   "source": [
    "# transform and solve\n",
    "TransformationFactory('dae.collocation').apply_to(m, wrt=m.t, nfe=3, ncp=12, method='BACKWARD')\n",
    "SolverFactory('ipopt').solve(m).write()\n",
    "\n",
    "%matplotlib inline\n",
    "import matplotlib.pyplot as plt\n",
    "import numpy as np\n",
    "\n",
    "t = [t for t in m.t]\n",
    "\n",
    "u = [m.u[t]() for t in t]\n",
    "x1 = [m.x[1,t]() for t in t]\n",
    "x2 = [m.x[2,t]() for t in t]\n",
    "x3 = [m.x[3,t]() for t in t]\n",
    "\n",
    "plt.figure(figsize=(10,12))\n",
    "plt.subplot(4,1,1)\n",
    "plt.plot(t, x1)\n",
    "\n",
    "plt.subplot(4,1,2)\n",
    "plt.plot(t, x2)\n",
    "plt.plot(t, 8*(np.array(t)-0.5)**2 - 0.5)\n",
    "\n",
    "plt.subplot(4,1,3)\n",
    "plt.plot(t, x3)\n",
    "\n",
    "plt.subplot(4,1,4)\n",
    "plt.plot(t, u)"
   ]
  },
  {
   "cell_type": "code",
   "execution_count": null,
   "metadata": {},
   "outputs": [],
   "source": []
  },
  {
   "cell_type": "markdown",
   "metadata": {},
   "source": [
    "<!--NAVIGATION-->\n",
    "< [Transient Heat Transfer in Various Geometries](http://nbviewer.jupyter.org/github/jckantor/CBE30338/blob/master/notebooks/07.07-Transient-Heat-Transfer-in-Various-Geometries.ipynb) | [Contents](toc.ipynb) | [Predictive Control](http://nbviewer.jupyter.org/github/jckantor/CBE30338/blob/master/notebooks/08.00-Predictive-Control.ipynb) ><p><a href=\"https://colab.research.google.com/github/jckantor/CBE30338/blob/master/notebooks/07.08-Path-Constraints.ipynb\"><img align=\"left\" src=\"https://colab.research.google.com/assets/colab-badge.svg\" alt=\"Open in Colab\" title=\"Open in Google Colaboratory\"></a><p><a href=\"https://raw.githubusercontent.com/jckantor/CBE30338/master/notebooks/07.08-Path-Constraints.ipynb\"><img align=\"left\" src=\"https://img.shields.io/badge/Github-Download-blue.svg\" alt=\"Download\" title=\"Download Notebook\"></a>"
   ]
  }
 ],
 "metadata": {
  "kernelspec": {
   "display_name": "Python 3 (ipykernel)",
   "language": "python",
   "name": "python3"
  },
  "language_info": {
   "codemirror_mode": {
    "name": "ipython",
    "version": 3
   },
   "file_extension": ".py",
   "mimetype": "text/x-python",
   "name": "python",
   "nbconvert_exporter": "python",
   "pygments_lexer": "ipython3",
   "version": "3.9.7"
  }
 },
 "nbformat": 4,
 "nbformat_minor": 2
}
