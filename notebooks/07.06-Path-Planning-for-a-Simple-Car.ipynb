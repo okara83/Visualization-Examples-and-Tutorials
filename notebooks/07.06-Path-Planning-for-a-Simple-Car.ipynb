{
 "cells": [
  {
   "cell_type": "markdown",
   "metadata": {
    "colab_type": "text",
    "id": "TOVhPSfimKha"
   },
   "source": [
    "# Path Planning for a Simple Car"
   ]
  },
  {
   "cell_type": "markdown",
   "metadata": {
    "colab_type": "text",
    "id": "BayF7dSpnyaO"
   },
   "source": [
    "## Required Installations\n",
    "\n",
    "If run on Google Colab, it is necessary to install any needed solvers for each Colab session. The following cell tests if the notebook is run on Google Colab, then installs Pyomo and Ipopt if not already installed."
   ]
  },
  {
   "cell_type": "code",
   "execution_count": 1,
   "metadata": {
    "colab": {},
    "colab_type": "code",
    "id": "SCT5AdNQmcx5"
   },
   "outputs": [],
   "source": [
    "try:\n",
    "    import google.colab\n",
    "    try:\n",
    "        from pyomo.environ import *\n",
    "    except:\n",
    "        !pip install -q pyomo\n",
    "    if not 'ipopt_executable' in vars():\n",
    "        !wget -N -q \"https://ampl.com/dl/open/ipopt/ipopt-linux64.zip\"\n",
    "        !unzip -o -q ipopt-linux64\n",
    "        ipopt_executable = '/content/ipopt'\n",
    "except:\n",
    "    pass"
   ]
  },
  {
   "cell_type": "markdown",
   "metadata": {
    "colab_type": "text",
    "id": "vA9fZ0KepTrI"
   },
   "source": [
    "## Kinematic Model"
   ]
  },
  {
   "cell_type": "markdown",
   "metadata": {
    "colab_type": "text",
    "id": "9iuaeJGupKcg"
   },
   "source": [
    "\n",
    "The following equations describe a simple model of a car\n",
    "\n",
    "\\begin{align}\n",
    "\\frac{dx}{dt} & = v \\cos(\\theta) \\\\\n",
    "\\frac{dy}{dt} & = v \\sin(\\theta) \\\\\n",
    "\\frac{d\\theta}{dt} & = \\frac{v}{L}\\tan(\\phi) \\\\\n",
    "\\end{align}\n",
    "\n",
    "where $x$ and $y$ denote the position of the center of the rear axle, $\\theta$ is the angle of the car axis to the horizontal, $v$ is velocity, and $\\phi$ is the angle of the front steering wheels to the car axis. The length $L$ is the distance from the center of the rear axle to the center of the front axle.\n",
    "\n",
    "The velocity $v$ is controlled by acceleration of the car, the position of the wheels is controlled by the rate limited steering input $v$.\n",
    "\n",
    "\\begin{align}\n",
    "\\frac{dv}{dt} & = a \\\\\n",
    "\\frac{d\\phi}{dt} & = u\n",
    "\\end{align}\n",
    "\n",
    "The state of the car is determined by the value of the five state variables $x$, $y$, $\\theta$, $v$, and $\\phi$.\n",
    "\n",
    "The path planning problem is to find find values of the manipulable variables $a(t)$ and $u(t)$ on a time interval $0 \\leq t \\leq t_f$ to drive the car from an initial condition $\\left[x(0), y(0), \\theta(0), v(0), \\phi(0)\\right]$ to a specified final condition $\\left[x(t_f), y(t_f), \\theta(t_f), v(t_f), \\phi(t_f)\\right]$ that minimizes an objective function:\n",
    "\n",
    "\\begin{align}\n",
    "J  = \\min \\int_0^{t_f} \\left( \\phi(t)^2 + \\alpha a(t)^2 + \\beta u(t)^2\\right)\\,dt\n",
    "\\end{align}\n",
    "\n",
    "and which satisfy operational constraints\n",
    "\n",
    "\\begin{align*}\n",
    "| u | & \\leq u_{max}\n",
    "\\end{align*}\n"
   ]
  },
  {
   "cell_type": "markdown",
   "metadata": {
    "colab_type": "text",
    "id": "FLQpW-FnmKhb"
   },
   "source": [
    "## Pyomo Model"
   ]
  },
  {
   "cell_type": "code",
   "execution_count": 2,
   "metadata": {
    "colab": {
     "base_uri": "https://localhost:8080/",
     "height": 510
    },
    "colab_type": "code",
    "executionInfo": {
     "elapsed": 5724,
     "status": "ok",
     "timestamp": 1554483576630,
     "user": {
      "displayName": "Jeffrey Kantor",
      "photoUrl": "https://lh5.googleusercontent.com/-8zK5aAW5RMQ/AAAAAAAAAAI/AAAAAAAAKB0/kssUQyz8DTQ/s64/photo.jpg",
      "userId": "09038942003589296665"
     },
     "user_tz": 240
    },
    "id": "q3J2uYaCmKhc",
    "outputId": "481ba5f6-974b-4eaf-9ea8-175275d81613"
   },
   "outputs": [
    {
     "ename": "ValueError",
     "evalue": "key 'method' not defined for ConfigDict '' and implicit (undefined) keys are not allowed",
     "output_type": "error",
     "traceback": [
      "\u001b[0;31m---------------------------------------------------------------------------\u001b[0m",
      "\u001b[0;31mValueError\u001b[0m                                Traceback (most recent call last)",
      "\u001b[0;32m/var/folders/sd/1vc_q83x5rn9jjrd0x47_cc00000gn/T/ipykernel_78050/3604297061.py\u001b[0m in \u001b[0;36m<module>\u001b[0;34m\u001b[0m\n\u001b[1;32m     60\u001b[0m \u001b[0;34m\u001b[0m\u001b[0m\n\u001b[1;32m     61\u001b[0m \u001b[0;31m# transform and solve\u001b[0m\u001b[0;34m\u001b[0m\u001b[0;34m\u001b[0m\u001b[0m\n\u001b[0;32m---> 62\u001b[0;31m \u001b[0mTransformationFactory\u001b[0m\u001b[0;34m(\u001b[0m\u001b[0;34m'dae.collocation'\u001b[0m\u001b[0;34m)\u001b[0m\u001b[0;34m.\u001b[0m\u001b[0mapply_to\u001b[0m\u001b[0;34m(\u001b[0m\u001b[0mm\u001b[0m\u001b[0;34m,\u001b[0m \u001b[0mwrt\u001b[0m\u001b[0;34m=\u001b[0m\u001b[0mm\u001b[0m\u001b[0;34m.\u001b[0m\u001b[0mt\u001b[0m\u001b[0;34m,\u001b[0m \u001b[0mnfe\u001b[0m\u001b[0;34m=\u001b[0m\u001b[0;36m3\u001b[0m\u001b[0;34m,\u001b[0m \u001b[0mncp\u001b[0m\u001b[0;34m=\u001b[0m\u001b[0;36m12\u001b[0m\u001b[0;34m,\u001b[0m \u001b[0mmethod\u001b[0m\u001b[0;34m=\u001b[0m\u001b[0;34m'BACKWARD'\u001b[0m\u001b[0;34m)\u001b[0m\u001b[0;34m\u001b[0m\u001b[0;34m\u001b[0m\u001b[0m\n\u001b[0m\u001b[1;32m     63\u001b[0m \u001b[0mSolverFactory\u001b[0m\u001b[0;34m(\u001b[0m\u001b[0;34m'ipopt'\u001b[0m\u001b[0;34m,\u001b[0m \u001b[0mexecutable\u001b[0m\u001b[0;34m=\u001b[0m\u001b[0mipopt_executable\u001b[0m\u001b[0;34m)\u001b[0m\u001b[0;34m.\u001b[0m\u001b[0msolve\u001b[0m\u001b[0;34m(\u001b[0m\u001b[0mm\u001b[0m\u001b[0;34m)\u001b[0m\u001b[0;34m.\u001b[0m\u001b[0mwrite\u001b[0m\u001b[0;34m(\u001b[0m\u001b[0;34m)\u001b[0m\u001b[0;34m\u001b[0m\u001b[0;34m\u001b[0m\u001b[0m\n",
      "\u001b[0;32m/usr/local/lib/python3.9/site-packages/pyomo/core/base/transformation.py\u001b[0m in \u001b[0;36mapply_to\u001b[0;34m(self, model, **kwds)\u001b[0m\n\u001b[1;32m     67\u001b[0m         \u001b[0;32mif\u001b[0m \u001b[0;32mnot\u001b[0m \u001b[0mhasattr\u001b[0m\u001b[0;34m(\u001b[0m\u001b[0mmodel\u001b[0m\u001b[0;34m,\u001b[0m \u001b[0;34m'_transformation_data'\u001b[0m\u001b[0;34m)\u001b[0m\u001b[0;34m:\u001b[0m\u001b[0;34m\u001b[0m\u001b[0;34m\u001b[0m\u001b[0m\n\u001b[1;32m     68\u001b[0m             \u001b[0mmodel\u001b[0m\u001b[0;34m.\u001b[0m\u001b[0m_transformation_data\u001b[0m \u001b[0;34m=\u001b[0m \u001b[0mTransformationData\u001b[0m\u001b[0;34m(\u001b[0m\u001b[0;34m)\u001b[0m\u001b[0;34m\u001b[0m\u001b[0;34m\u001b[0m\u001b[0m\n\u001b[0;32m---> 69\u001b[0;31m         \u001b[0mself\u001b[0m\u001b[0;34m.\u001b[0m\u001b[0m_apply_to\u001b[0m\u001b[0;34m(\u001b[0m\u001b[0mmodel\u001b[0m\u001b[0;34m,\u001b[0m \u001b[0;34m**\u001b[0m\u001b[0mkwds\u001b[0m\u001b[0;34m)\u001b[0m\u001b[0;34m\u001b[0m\u001b[0;34m\u001b[0m\u001b[0m\n\u001b[0m\u001b[1;32m     70\u001b[0m         \u001b[0mtimer\u001b[0m\u001b[0;34m.\u001b[0m\u001b[0mreport\u001b[0m\u001b[0;34m(\u001b[0m\u001b[0;34m)\u001b[0m\u001b[0;34m\u001b[0m\u001b[0;34m\u001b[0m\u001b[0m\n\u001b[1;32m     71\u001b[0m \u001b[0;34m\u001b[0m\u001b[0m\n",
      "\u001b[0;32m/usr/local/lib/python3.9/site-packages/pyomo/dae/plugins/colloc.py\u001b[0m in \u001b[0;36m_apply_to\u001b[0;34m(self, instance, **kwds)\u001b[0m\n\u001b[1;32m    367\u001b[0m         \"\"\"\n\u001b[1;32m    368\u001b[0m \u001b[0;34m\u001b[0m\u001b[0m\n\u001b[0;32m--> 369\u001b[0;31m         \u001b[0mconfig\u001b[0m \u001b[0;34m=\u001b[0m \u001b[0mself\u001b[0m\u001b[0;34m.\u001b[0m\u001b[0mCONFIG\u001b[0m\u001b[0;34m(\u001b[0m\u001b[0mkwds\u001b[0m\u001b[0;34m)\u001b[0m\u001b[0;34m\u001b[0m\u001b[0;34m\u001b[0m\u001b[0m\n\u001b[0m\u001b[1;32m    370\u001b[0m \u001b[0;34m\u001b[0m\u001b[0m\n\u001b[1;32m    371\u001b[0m         \u001b[0mtmpnfe\u001b[0m \u001b[0;34m=\u001b[0m \u001b[0mconfig\u001b[0m\u001b[0;34m.\u001b[0m\u001b[0mnfe\u001b[0m\u001b[0;34m\u001b[0m\u001b[0;34m\u001b[0m\u001b[0m\n",
      "\u001b[0;32m/usr/local/lib/python3.9/site-packages/pyomo/common/config.py\u001b[0m in \u001b[0;36m__call__\u001b[0;34m(self, value, default, domain, description, doc, visibility, implicit, implicit_domain, preserve_implicit)\u001b[0m\n\u001b[1;32m   1230\u001b[0m         \u001b[0;31m# ... and set the value, if appropriate\u001b[0m\u001b[0;34m\u001b[0m\u001b[0;34m\u001b[0m\u001b[0m\n\u001b[1;32m   1231\u001b[0m         \u001b[0;32mif\u001b[0m \u001b[0mvalue\u001b[0m \u001b[0;32mis\u001b[0m \u001b[0;32mnot\u001b[0m \u001b[0mNoArgumentGiven\u001b[0m\u001b[0;34m:\u001b[0m\u001b[0;34m\u001b[0m\u001b[0;34m\u001b[0m\u001b[0m\n\u001b[0;32m-> 1232\u001b[0;31m             \u001b[0mans\u001b[0m\u001b[0;34m.\u001b[0m\u001b[0mset_value\u001b[0m\u001b[0;34m(\u001b[0m\u001b[0mvalue\u001b[0m\u001b[0;34m)\u001b[0m\u001b[0;34m\u001b[0m\u001b[0;34m\u001b[0m\u001b[0m\n\u001b[0m\u001b[1;32m   1233\u001b[0m         \u001b[0;32mreturn\u001b[0m \u001b[0mans\u001b[0m\u001b[0;34m\u001b[0m\u001b[0;34m\u001b[0m\u001b[0m\n\u001b[1;32m   1234\u001b[0m \u001b[0;34m\u001b[0m\u001b[0m\n",
      "\u001b[0;32m/usr/local/lib/python3.9/site-packages/pyomo/common/config.py\u001b[0m in \u001b[0;36mset_value\u001b[0;34m(self, value, skip_implicit)\u001b[0m\n\u001b[1;32m   2176\u001b[0m                     \u001b[0m_implicit\u001b[0m\u001b[0;34m.\u001b[0m\u001b[0mappend\u001b[0m\u001b[0;34m(\u001b[0m\u001b[0mkey\u001b[0m\u001b[0;34m)\u001b[0m\u001b[0;34m\u001b[0m\u001b[0;34m\u001b[0m\u001b[0m\n\u001b[1;32m   2177\u001b[0m                 \u001b[0;32melse\u001b[0m\u001b[0;34m:\u001b[0m\u001b[0;34m\u001b[0m\u001b[0;34m\u001b[0m\u001b[0m\n\u001b[0;32m-> 2178\u001b[0;31m                     raise ValueError(\n\u001b[0m\u001b[1;32m   2179\u001b[0m                         \u001b[0;34m\"key '%s' not defined for ConfigDict '%s' and \"\u001b[0m\u001b[0;34m\u001b[0m\u001b[0;34m\u001b[0m\u001b[0m\n\u001b[1;32m   2180\u001b[0m                         \u001b[0;34m\"implicit (undefined) keys are not allowed\"\u001b[0m \u001b[0;34m%\u001b[0m\u001b[0;34m\u001b[0m\u001b[0;34m\u001b[0m\u001b[0m\n",
      "\u001b[0;31mValueError\u001b[0m: key 'method' not defined for ConfigDict '' and implicit (undefined) keys are not allowed"
     ]
    }
   ],
   "source": [
    "from pyomo.environ import *\n",
    "from pyomo.dae import *\n",
    "\n",
    "L = 2\n",
    "tf = 50\n",
    "\n",
    "# create a model object\n",
    "m = ConcreteModel()\n",
    "\n",
    "# define the independent variable\n",
    "m.t = ContinuousSet(bounds=(0, tf))\n",
    "\n",
    "# define control inputs\n",
    "m.a = Var(m.t)\n",
    "m.u = Var(m.t, domain=Reals, bounds=(-0.1,0.1))\n",
    "\n",
    "# define the dependent variables\n",
    "m.x = Var(m.t)\n",
    "m.y = Var(m.t)\n",
    "m.theta = Var(m.t)\n",
    "m.v = Var(m.t)\n",
    "m.phi = Var(m.t, domain=Reals, bounds=(-0.5,0.5))\n",
    "\n",
    "m.xdot = DerivativeVar(m.x)\n",
    "m.ydot = DerivativeVar(m.y)\n",
    "m.thetadot = DerivativeVar(m.theta)\n",
    "m.vdot = DerivativeVar(m.v)\n",
    "m.phidot = DerivativeVar(m.phi)\n",
    "\n",
    "# define the differential equation as a constraint\n",
    "m.ode_x = Constraint(m.t, rule=lambda m, t: m.xdot[t] == m.v[t]*cos(m.theta[t]))\n",
    "m.ode_y = Constraint(m.t, rule=lambda m, t: m.ydot[t] == m.v[t]*sin(m.theta[t]))\n",
    "m.ode_t = Constraint(m.t, rule=lambda m, t: m.thetadot[t] == m.v[t]*tan(m.phi[t])/L)\n",
    "m.ode_u = Constraint(m.t, rule=lambda m, t: m.vdot[t] == m.a[t])\n",
    "m.ode_p = Constraint(m.t, rule=lambda m, t: m.phidot[t] == m.u[t])\n",
    "\n",
    "# path constraints\n",
    "m.path_x1 = Constraint(m.t, rule=lambda m, t: m.x[t] >= 0)\n",
    "m.path_y1 = Constraint(m.t, rule=lambda m, t: m.y[t] >= 0)\n",
    "\n",
    "# initial conditions\n",
    "m.ic = ConstraintList()\n",
    "m.ic.add(m.x[0]==0)\n",
    "m.ic.add(m.y[0]==0)\n",
    "m.ic.add(m.theta[0]==0)\n",
    "m.ic.add(m.v[0]==0)\n",
    "m.ic.add(m.phi[0]==0)\n",
    "\n",
    "# final conditions\n",
    "m.fc = ConstraintList()\n",
    "m.fc.add(m.x[tf]==0)\n",
    "m.fc.add(m.y[tf]==20)\n",
    "m.fc.add(m.theta[tf]==0)\n",
    "m.fc.add(m.v[tf]==0)\n",
    "m.fc.add(m.phi[tf]==0)\n",
    "\n",
    "# define the optimization objective\n",
    "m.integral = Integral(m.t, wrt=m.t, rule=lambda m, t: 0.2*m.phi[t]**2 + m.a[t]**2 + m.u[t]**2)\n",
    "m.obj = Objective(expr=m.integral)\n",
    "\n",
    "# transform and solve\n",
    "TransformationFactory('dae.collocation').apply_to(m, wrt=m.t, nfe=3, ncp=12, method='BACKWARD')\n",
    "SolverFactory('ipopt', executable=ipopt_executable).solve(m).write()"
   ]
  },
  {
   "cell_type": "markdown",
   "metadata": {
    "colab_type": "text",
    "id": "z4Johp-WmKhj"
   },
   "source": [
    "## Accessing Solution Data"
   ]
  },
  {
   "cell_type": "code",
   "execution_count": 3,
   "metadata": {
    "colab": {},
    "colab_type": "code",
    "id": "ewbm1c5CmKhk"
   },
   "outputs": [],
   "source": [
    "# access the results\n",
    "t= [t for t in m.t]\n",
    "\n",
    "a = [m.a[t]() for t in m.t]\n",
    "u = [m.u[t]() for t in m.t]\n",
    "\n",
    "x = [m.x[t]() for t in m.t]\n",
    "y = [m.y[t]() for t in m.t]\n",
    "theta = [m.theta[t]() for t in m.t]\n",
    "v = [m.v[t]() for t in m.t]\n",
    "phi = [m.phi[t]() for t in m.t]"
   ]
  },
  {
   "cell_type": "markdown",
   "metadata": {
    "colab_type": "text",
    "id": "1818dGFhmKhn"
   },
   "source": [
    "## Visualizing Car Path"
   ]
  },
  {
   "cell_type": "code",
   "execution_count": 4,
   "metadata": {
    "colab": {
     "base_uri": "https://localhost:8080/",
     "height": 660
    },
    "colab_type": "code",
    "executionInfo": {
     "elapsed": 6545,
     "status": "ok",
     "timestamp": 1554483577467,
     "user": {
      "displayName": "Jeffrey Kantor",
      "photoUrl": "https://lh5.googleusercontent.com/-8zK5aAW5RMQ/AAAAAAAAAAI/AAAAAAAAKB0/kssUQyz8DTQ/s64/photo.jpg",
      "userId": "09038942003589296665"
     },
     "user_tz": 240
    },
    "id": "pjlY0m-QmKho",
    "outputId": "d93b7750-edf8-481f-9d2f-462eeb132889",
    "scrolled": false
   },
   "outputs": [
    {
     "name": "stderr",
     "output_type": "stream",
     "text": [
      "UsageError: Line magic function `%` not found.\n"
     ]
    }
   ],
   "source": [
    "% matplotlib inline\n",
    "import numpy as np\n",
    "import matplotlib.pyplot as plt\n",
    "import seaborn as sns\n",
    "sns.set()\n",
    "\n",
    "scl=0.3\n",
    "\n",
    "def draw_car(x=0, y=0, theta=0, phi=0):\n",
    "    R = np.array([[np.cos(theta), -np.sin(theta)], [np.sin(theta), np.cos(theta)]])\n",
    "    car = np.array([[0.2, 0.5], [-0.2, 0.5], [0, 0.5], [0, -0.5],\n",
    "                    [0.2, -0.5], [-0.2, -0.5], [0, -0.5], [0, 0], [L, 0], [L, 0.5],\n",
    "                    [L + 0.2*np.cos(phi), 0.5 + 0.2*np.sin(phi)],\n",
    "                    [L - 0.2*np.cos(phi), 0.5 - 0.2*np.sin(phi)], [L, 0.5],[L, -0.5],\n",
    "                    [L + 0.2*np.cos(phi), -0.5 + 0.2*np.sin(phi)],\n",
    "                    [L - 0.2*np.cos(phi), -0.5 - 0.2*np.sin(phi)]])\n",
    "    carz= scl*R.dot(car.T)\n",
    "    plt.plot(x + carz[0], y + carz[1], 'k', lw=2)\n",
    "    plt.plot(x, y, 'k.', ms=10)\n",
    "    \n",
    "plt.figure(figsize=(10,10))\n",
    "for xs,ys,ts,ps in zip(x,y,theta,phi):   \n",
    "    draw_car(xs, ys, ts, scl*ps)\n",
    "plt.plot(x, y, 'r--', lw=0.8)\n",
    "plt.axis('square')"
   ]
  },
  {
   "cell_type": "code",
   "execution_count": 5,
   "metadata": {
    "colab": {
     "base_uri": "https://localhost:8080/",
     "height": 500
    },
    "colab_type": "code",
    "executionInfo": {
     "elapsed": 6867,
     "status": "ok",
     "timestamp": 1554483577799,
     "user": {
      "displayName": "Jeffrey Kantor",
      "photoUrl": "https://lh5.googleusercontent.com/-8zK5aAW5RMQ/AAAAAAAAAAI/AAAAAAAAKB0/kssUQyz8DTQ/s64/photo.jpg",
      "userId": "09038942003589296665"
     },
     "user_tz": 240
    },
    "id": "xxybmvuLmKhs",
    "outputId": "9fb70ac9-9e46-4152-f814-430cad961d6d"
   },
   "outputs": [
    {
     "ename": "NameError",
     "evalue": "name 'plt' is not defined",
     "output_type": "error",
     "traceback": [
      "\u001b[0;31m---------------------------------------------------------------------------\u001b[0m",
      "\u001b[0;31mNameError\u001b[0m                                 Traceback (most recent call last)",
      "\u001b[0;32m/var/folders/sd/1vc_q83x5rn9jjrd0x47_cc00000gn/T/ipykernel_78050/3905018568.py\u001b[0m in \u001b[0;36m<module>\u001b[0;34m\u001b[0m\n\u001b[0;32m----> 1\u001b[0;31m \u001b[0mplt\u001b[0m\u001b[0;34m.\u001b[0m\u001b[0mfigure\u001b[0m\u001b[0;34m(\u001b[0m\u001b[0mfigsize\u001b[0m\u001b[0;34m=\u001b[0m\u001b[0;34m(\u001b[0m\u001b[0;36m10\u001b[0m\u001b[0;34m,\u001b[0m\u001b[0;36m8\u001b[0m\u001b[0;34m)\u001b[0m\u001b[0;34m)\u001b[0m\u001b[0;34m\u001b[0m\u001b[0;34m\u001b[0m\u001b[0m\n\u001b[0m\u001b[1;32m      2\u001b[0m \u001b[0mplt\u001b[0m\u001b[0;34m.\u001b[0m\u001b[0msubplot\u001b[0m\u001b[0;34m(\u001b[0m\u001b[0;36m311\u001b[0m\u001b[0;34m)\u001b[0m\u001b[0;34m\u001b[0m\u001b[0;34m\u001b[0m\u001b[0m\n\u001b[1;32m      3\u001b[0m \u001b[0mplt\u001b[0m\u001b[0;34m.\u001b[0m\u001b[0mplot\u001b[0m\u001b[0;34m(\u001b[0m\u001b[0mt\u001b[0m\u001b[0;34m,\u001b[0m \u001b[0ma\u001b[0m\u001b[0;34m,\u001b[0m \u001b[0mt\u001b[0m\u001b[0;34m,\u001b[0m \u001b[0mu\u001b[0m\u001b[0;34m)\u001b[0m\u001b[0;34m\u001b[0m\u001b[0;34m\u001b[0m\u001b[0m\n\u001b[1;32m      4\u001b[0m \u001b[0mplt\u001b[0m\u001b[0;34m.\u001b[0m\u001b[0mlegend\u001b[0m\u001b[0;34m(\u001b[0m\u001b[0;34m[\u001b[0m\u001b[0;34m'Acceleration'\u001b[0m\u001b[0;34m,\u001b[0m\u001b[0;34m'Steering Input'\u001b[0m\u001b[0;34m]\u001b[0m\u001b[0;34m)\u001b[0m\u001b[0;34m\u001b[0m\u001b[0;34m\u001b[0m\u001b[0m\n\u001b[1;32m      5\u001b[0m \u001b[0;34m\u001b[0m\u001b[0m\n",
      "\u001b[0;31mNameError\u001b[0m: name 'plt' is not defined"
     ]
    }
   ],
   "source": [
    "plt.figure(figsize=(10,8))\n",
    "plt.subplot(311)\n",
    "plt.plot(t, a, t, u)\n",
    "plt.legend(['Acceleration','Steering Input'])\n",
    "\n",
    "plt.subplot(312)\n",
    "plt.plot(t, phi, t, theta)\n",
    "plt.legend(['Wheel Position','Car Direction'])\n",
    "\n",
    "plt.subplot(313)\n",
    "plt.plot(t, v)\n",
    "plt.legend(['Velocity'])"
   ]
  },
  {
   "cell_type": "code",
   "execution_count": null,
   "metadata": {
    "colab": {},
    "colab_type": "code",
    "id": "OUWgux1lmKhv"
   },
   "outputs": [],
   "source": []
  }
 ],
 "metadata": {
  "colab": {
   "collapsed_sections": [],
   "name": "07.06-Path-Planning-for-a-Simple-Car.ipynb",
   "provenance": [],
   "toc_visible": true,
   "version": "0.3.2"
  },
  "kernelspec": {
   "display_name": "Python 3 (ipykernel)",
   "language": "python",
   "name": "python3"
  },
  "language_info": {
   "codemirror_mode": {
    "name": "ipython",
    "version": 3
   },
   "file_extension": ".py",
   "mimetype": "text/x-python",
   "name": "python",
   "nbconvert_exporter": "python",
   "pygments_lexer": "ipython3",
   "version": "3.9.7"
  }
 },
 "nbformat": 4,
 "nbformat_minor": 1
}
