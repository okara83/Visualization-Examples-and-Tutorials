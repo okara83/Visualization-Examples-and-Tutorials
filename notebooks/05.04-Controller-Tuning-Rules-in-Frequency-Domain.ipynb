{
 "cells": [
  {
   "cell_type": "markdown",
   "metadata": {},
   "source": [
    "# Controller Tuning Rules in Frequency Domain\n",
    "\n",
    "Demonstrate the use of a Bode plot for controller tuning. The notebook uses the [Python Control Systems Library](https://github.com/python-control/python-control).  "
   ]
  },
  {
   "cell_type": "markdown",
   "metadata": {},
   "source": [
    "## Closed-Loop Transfer Functions"
   ]
  },
  {
   "cell_type": "markdown",
   "metadata": {},
   "source": [
    "### Process Transfer Functions\n",
    "\n",
    "The process output $y$ is modeled as the output of a linear system described by the transfer function \n",
    "\n",
    "$$y = G_p(s)G_v(s) u + G_d(s) d$$\n",
    "\n",
    "where $G_p(s)$ is the process response to a manipulated variable, $G_v(s)$ is the transfer function of the actuator dynamics, and $G_d(s)$ is process response to a disturbance. The measured process output is given by\n",
    "\n",
    "$$y_m = G_m(s) y$$\n",
    "\n",
    "where $G_m(s)$ is the sensor transfer function. We assume the sensor has unit gain, i.e., $G_m(0) = 1$"
   ]
  },
  {
   "cell_type": "markdown",
   "metadata": {},
   "source": [
    "### Control Transfer Functions\n",
    "\n",
    "The controller generates a command $u$ in response to the reference input $r$ and measured process output $y_m$. This is modeled as\n",
    "\n",
    "$$u = G_r(s)r - G_y(s)y_m$$\n",
    "\n",
    "where $G_r(s)$ and $G_y(s)$ are the controller transfer functions. Textbook simulations often set $G_r(s) = G_y(s)$ for PID control.  In practice, however, it is generally desireable to avoid excessive action in response to setpoint changes, so generally $G_r \\neq G_y$.\n",
    "\n",
    "Below we employ a parallel implementation of PID control for output feedback where\n",
    "\n",
    "$$G_y(s) = K_p\\left[ 1 + \\frac{1}{\\tau_Is} + \\frac{\\tau_D s}{\\alpha\\tau_Ds + 1}\\right]$$\n",
    "\n",
    "where parameter $\\alpha$ limits excessive derivative action. Typical values of $\\alpha$ are in the range 0.2 to 0.1.\n",
    "\n",
    "For the reference signal, $G_r(s)$ has the same general form but with additional parameters $\\beta$ and $\\gamma$\n",
    "\n",
    "$$G_r(s) = K_p\\left[ \\beta + \\frac{1}{\\tau_Is} + \\gamma\\frac{\\tau_D s}{\\alpha\\tau_Ds + 1}\\right]$$\n",
    "\n",
    "Commonly $\\gamma = 0$ to avoid derivative action on the reference signal. Parameter $\\beta$ is typically set to a value $0\\leq\\beta\\leq 1$ that balances prompt response to a setpoint against undue 'kicks' caused by sudden changes in setpoint."
   ]
  },
  {
   "cell_type": "markdown",
   "metadata": {},
   "source": [
    "### Closed Loop Transfer Functions\n",
    "\n",
    "The overall response of the closed-loop system is characterized by a set of four transfer functions relating the reference and disturbance inputs to the process output $y$ and the control command $u$.\n",
    "\n",
    "$$\\begin{align*}\n",
    "y & = H_{yr}(s)r + H_{yd}(s)d \\\\\n",
    "u & = H_{ur}(s)r + H_{ud}(s)d\n",
    "\\end{align*}\n",
    "$$\n",
    "\n",
    "The closed-loop transfer functions are given explicitly as \n",
    "\n",
    "$$H_{yr} = \\frac{G_pG_vG_r}{1 + G_pG_vG_yG_m}$$\n",
    "\n",
    "$$H_{yd} = \\frac{G_d}{1 + G_pG_vG_yG_m}$$\n",
    "\n",
    "$$H_{ur} = \\frac{G_r}{1 + G_yG_mG_pG_v}$$\n",
    "\n",
    "$$H_{ud} = -\\frac{G_yG_mG_d}{1 + G_yG_mG_pG_v}$$\n",
    "\n",
    "where the argument $s$ has been suppressed for brevity."
   ]
  },
  {
   "cell_type": "markdown",
   "metadata": {},
   "source": [
    "## Example\n",
    "\n",
    "We'll assume a process transfer function with time delay\n",
    "\n",
    "$$G_p(s) = \\frac{0.2}{s^2 + 1.5 s + 1}$$\n",
    "\n",
    "and a disturbance response\n",
    "\n",
    "$$G_d(s) = \\frac{1}{s + 1}$$\n",
    "\n",
    "and a measurement transfer function\n",
    "\n",
    "$$G_m(s) = e^{-s}$$\n",
    "\n",
    "We'll assume the dynamics of the actuator are negligible such that $G_v(s) = 1$. \n",
    "\n",
    "The Python Control Systems Library does not provide a specific representation for time delay. It does, however, provide a function `pade` for creating Pade approximations to time delay systems."
   ]
  },
  {
   "cell_type": "markdown",
   "metadata": {},
   "source": [
    "### Entering Process Transfer Functions"
   ]
  },
  {
   "cell_type": "code",
   "execution_count": 1,
   "metadata": {},
   "outputs": [
    {
     "name": "stdout",
     "output_type": "stream",
     "text": [
      "Gp =  \n",
      "      0.2\n",
      "---------------\n",
      "s^2 + 1.5 s + 1\n",
      "\n",
      "Gd =  \n",
      "  1\n",
      "-----\n",
      "s + 1\n",
      "\n",
      "Gv =  \n",
      "1\n",
      "-\n",
      "1\n",
      "\n",
      "Gm =  \n",
      "-s^3 + 12 s^2 - 60 s + 120\n",
      "--------------------------\n",
      "s^3 + 12 s^2 + 60 s + 120\n",
      "\n"
     ]
    }
   ],
   "source": [
    "%matplotlib inline\n",
    "import numpy as np\n",
    "import matplotlib.pyplot as plt\n",
    "from control.matlab import *\n",
    "\n",
    "Gp = tf([0.2],[1, 1.5, 1])\n",
    "print(\"Gp = \", Gp)\n",
    "\n",
    "Gd = tf([1],[1,1])\n",
    "print(\"Gd = \", Gd)\n",
    "\n",
    "Gv = tf([1],[1])\n",
    "print(\"Gv = \", Gv)\n",
    "\n",
    "(num,den) = pade(1.0,3)\n",
    "Gm = tf(num,den)\n",
    "print(\"Gm = \", Gm)"
   ]
  },
  {
   "cell_type": "markdown",
   "metadata": {},
   "source": [
    "### Finding Cross-Over Frequency and Gain at Cross-Over"
   ]
  },
  {
   "cell_type": "code",
   "execution_count": 2,
   "metadata": {},
   "outputs": [
    {
     "data": {
      "text/plain": [
       "Text(0.5, 1.0, 'Crossover Frequency = 10')"
      ]
     },
     "execution_count": 2,
     "metadata": {},
     "output_type": "execute_result"
    },
    {
     "data": {
      "image/png": "[encoded data removed]",
      "text/plain": [
       "<Figure size 432x288 with 2 Axes>"
      ]
     },
     "metadata": {
      "needs_background": "light"
     },
     "output_type": "display_data"
    }
   ],
   "source": [
    "w = np.logspace(-1,1)\n",
    "mag,phase,omega = bode(Gp*Gm*Gv,w)\n",
    "plt.tight_layout()\n",
    "\n",
    "# find the cross-over frequency and gain at cross-over\n",
    "wc = np.interp(-180.0,np.flipud(phase),np.flipud(omega))\n",
    "gc = np.interp(wc,omega,mag)\n",
    "\n",
    "# get the subplots axes\n",
    "ax1,ax2 = plt.gcf().axes\n",
    "\n",
    "# add features to the magnitude plot\n",
    "plt.sca(ax1)\n",
    "plt.plot([omega[0],omega[-1]],[gc,gc],'r--')\n",
    "[gmin,gmax] = plt.ylim()\n",
    "plt.plot([wc,wc],[gmin,gmax],'r--')\n",
    "plt.title(\"Gain at Crossover = {0:.3g}\".format(gc))\n",
    "\n",
    "# add features to the phase plot\n",
    "plt.sca(ax2)\n",
    "plt.plot([omega[0],omega[-1]],[-180,-180],'r--')\n",
    "[pmin,pmax] = plt.ylim()\n",
    "plt.plot([wc,wc],[pmin,pmax],'r--')\n",
    "plt.title(\"Crossover Frequency = {0:.3g}\".format(wc))"
   ]
  },
  {
   "cell_type": "markdown",
   "metadata": {},
   "source": [
    "### Computing Ultimate Gain and Period\n",
    "\n",
    "The conventional tuning rules for process control are written in terms of an ultimate gain $K_{cu}$ and ultimate period $P_u$. These are the values obtained by an experiment or calculation where the gain of a proportional only controller is increased until a steady closed-loop oscillation is first observed. The corresponding proportional gain is $K_{cu}$, and the period of oscillation is $P_u$.\n",
    "\n",
    "These values may be computed from a Bode plot. The ultimate period corresponds to\n",
    "\n",
    "$$P_u = \\frac{2\\pi}{\\omega_c}$$\n",
    "\n",
    "where $\\omega_c$ is the cross-over frequency. The ultimate gain is then\n",
    "\n",
    "$$K_{cu} = \\frac{1}{G_p(\\omega_c)}$$\n",
    "\n",
    "where $G_p(\\omega_c)$ is the open-loop process gain at the cross-over frequency."
   ]
  },
  {
   "cell_type": "code",
   "execution_count": 3,
   "metadata": {},
   "outputs": [],
   "source": [
    "Kcu = 1.0/gc\n",
    "Pu = 2.0*np.pi/wc"
   ]
  },
  {
   "cell_type": "markdown",
   "metadata": {},
   "source": [
    "## Ziegler-Nichols Tuning Rules\n",
    "\n",
    "| Control | $K_p$       | $\\tau_I$          | $\\tau_D$        |\n",
    "| :-----: | :---------: | :---------------: | :-------------: |\n",
    "| P       | $0.5K_{cu}$ | $-$               | $-$             |\n",
    "| PI      | $0.45K_{cu}$| $\\frac{P_u}{1.2}$ | $-$             |\n",
    "| PID     | $0.6K_{cu}$ | $\\frac{P_u}{2}$   | $\\frac{P_u}{8}$ |"
   ]
  },
  {
   "cell_type": "code",
   "execution_count": 4,
   "metadata": {},
   "outputs": [
    {
     "name": "stdout",
     "output_type": "stream",
     "text": [
      "Ziegler-Nichols PID Tuning\n",
      "Kp   = 300\n",
      "tauI = 0.314\n",
      "tauD = 0.0785\n"
     ]
    }
   ],
   "source": [
    "Kp = 0.6*Kcu\n",
    "tauI = Pu/2.0\n",
    "tauD = Pu/8.0\n",
    "\n",
    "print(\"Ziegler-Nichols PID Tuning\")\n",
    "print(\"Kp   = {0:0.3g}\".format(Kp))\n",
    "print(\"tauI = {0:0.3g}\".format(tauI))\n",
    "print(\"tauD = {0:0.3g}\".format(tauD))"
   ]
  },
  {
   "cell_type": "markdown",
   "metadata": {},
   "source": [
    "### Interactive Tuning of a PID Controller\n",
    "\n",
    "The following cell is initiated with the Ziegler-Nichols tuning for PID control. Interactive sliders can be adjusted to tune the controller for acceptable response."
   ]
  },
  {
   "cell_type": "code",
   "execution_count": 5,
   "metadata": {},
   "outputs": [
    {
     "data": {
      "application/vnd.jupyter.widget-view+json": {
       "model_id": "dcc4b09e1c864dbdb2cab5ad7d856b64",
       "version_major": 2,
       "version_minor": 0
      },
      "text/plain": [
       "interactive(children=(FloatSlider(value=0.5, description='beta', max=1.5, min=-0.5), FloatSlider(value=0.0, de…"
      ]
     },
     "metadata": {},
     "output_type": "display_data"
    },
    {
     "data": {
      "text/plain": [
       "<function __main__.f(alpha=0.1, beta=0.5, gamma=0.0, Kp=300.38974682901545, tauI=0.3141592653589793, tauD=0.07853981633974483)>"
      ]
     },
     "execution_count": 5,
     "metadata": {},
     "output_type": "execute_result"
    }
   ],
   "source": [
    "from ipywidgets import interact, interactive, fixed\n",
    "import ipywidgets as widgets\n",
    "\n",
    "def f(alpha=0.1,beta=0.5,gamma=0.0,Kp=0.6*Kcu,tauI=Pu/2.0,tauD=Pu/8.0):\n",
    "    \n",
    "    # parallel implementation of PID control\n",
    "    P = Kp * tf([1.0],[1.0])\n",
    "    I = (Kp/tauI) * tf([1.0],[1.0,0.0])\n",
    "    D = Kp*tauD * tf([1.0,0.0],[alpha*tauD,1.0])\n",
    "\n",
    "    # controller transfer functions\n",
    "    Gr = beta*P + I + gamma*D\n",
    "    Gy = P + I + D\n",
    "\n",
    "    t = np.linspace(0,20,200)\n",
    "    plt.figure(figsize=(12,6))\n",
    "\n",
    "    yr,t = step(Gp*Gv*Gr/(1+Gp*Gv*Gy*Gm),t)\n",
    "    plt.subplot(2,2,1)\n",
    "    plt.plot(t,yr)\n",
    "    plt.plot(plt.xlim(),[1.0,1.0],'r--')\n",
    "    plt.title('Setpoint Response')\n",
    "    plt.ylabel('Output y')\n",
    "\n",
    "    yd,t = step(Gd/(1+Gp*Gv*Gy*Gm),t)\n",
    "    plt.subplot(2,2,2)\n",
    "    plt.plot(t,yd)\n",
    "    plt.plot(plt.xlim(),[0.0,0.0],'r--')\n",
    "    plt.title('Disturbance Response')\n",
    "    plt.ylabel('Output y')\n",
    "\n",
    "    ur,t = step(Gr/(1+Gy*Gm*Gp*Gv),t)\n",
    "    plt.subplot(2,2,3)\n",
    "    plt.plot(t,ur)\n",
    "    plt.plot(plt.xlim(),[0.0,0.0],'r--')\n",
    "    plt.ylabel('Control u')\n",
    "\n",
    "    ud,t = step(-Gy*Gd/(1+Gy*Gm*Gp*Gv),t)\n",
    "    plt.subplot(2,2,4)\n",
    "    plt.plot(t,ud)\n",
    "    plt.plot(plt.xlim(),[0.0,0.0],'r--')\n",
    "    plt.ylabel('Control u')\n",
    "\n",
    "    plt.tight_layout()\n",
    "    \n",
    "interact(f, \n",
    "         alpha=fixed(0.1), \n",
    "         Kp = (0.01*Kcu,Kcu),\n",
    "         tauI = (Pu/20.0,Pu),\n",
    "         tauD = (0.0,Pu),\n",
    "         continuous_update=False)"
   ]
  },
  {
   "cell_type": "code",
   "execution_count": 6,
   "metadata": {},
   "outputs": [
    {
     "data": {
      "application/vnd.jupyter.widget-view+json": {
       "model_id": "d3a31b8dae0f42f58d5e70ff57b98c06",
       "version_major": 2,
       "version_minor": 0
      },
      "text/plain": [
       "interactive(children=(Dropdown(description='Controller', options=('P', 'PI', 'PID'), value='P'), Output()), _d…"
      ]
     },
     "metadata": {},
     "output_type": "display_data"
    }
   ],
   "source": [
    "def h(a,b):\n",
    "    print(a,b)\n",
    "\n",
    "def g(Controller):\n",
    "    interact(h,a=12.2,b=3.)\n",
    "    return\n",
    "\n",
    "interact(g, Controller=['P','PI','PID']);"
   ]
  },
  {
   "cell_type": "code",
   "execution_count": null,
   "metadata": {},
   "outputs": [],
   "source": []
  },
  {
   "cell_type": "code",
   "execution_count": null,
   "metadata": {},
   "outputs": [],
   "source": []
  },
  {
   "cell_type": "code",
   "execution_count": null,
   "metadata": {},
   "outputs": [],
   "source": []
  }
 ],
 "metadata": {
  "anaconda-cloud": {},
  "kernelspec": {
   "display_name": "Python 3 (ipykernel)",
   "language": "python",
   "name": "python3"
  },
  "language_info": {
   "codemirror_mode": {
    "name": "ipython",
    "version": 3
   },
   "file_extension": ".py",
   "mimetype": "text/x-python",
   "name": "python",
   "nbconvert_exporter": "python",
   "pygments_lexer": "ipython3",
   "version": "3.9.7"
  }
 },
 "nbformat": 4,
 "nbformat_minor": 2
}
