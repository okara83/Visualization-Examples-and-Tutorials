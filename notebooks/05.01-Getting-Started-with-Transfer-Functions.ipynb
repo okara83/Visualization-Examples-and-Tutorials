{
 "cells": [
  {
   "cell_type": "markdown",
   "metadata": {},
   "source": [
    "# Getting Started with Transfer Functions\n",
    "\n",
    "The Python Control Systems Library provides basic tools for the analysis and design of linear feedback control systems. The library provides tools to specify transfer function and state space models, manipulate models using block diagram algebra, stability analysis, and perform time and frequency domain simulation."
   ]
  },
  {
   "cell_type": "markdown",
   "metadata": {},
   "source": [
    "## Installation\n",
    "\n",
    "The [Python Control Systems Library](https://github.com/python-control/python-control) is not, unfortunately, a standard part of most standard Python distributions. On most systems, the following commands will perform the required one-time installation of the necessary software."
   ]
  },
  {
   "cell_type": "code",
   "execution_count": null,
   "metadata": {},
   "outputs": [
    {
     "name": "stdout",
     "output_type": "stream",
     "text": [
      "\u001b[33mDEPRECATION: Configuring installation scheme with distutils config files is deprecated and will no longer work in the near future. If you are using a Homebrew or Linuxbrew Python, please see discussion at https://github.com/Homebrew/homebrew-core/issues/76621\u001b[0m\n",
      "Collecting slycot\n",
      "  Downloading slycot-0.4.0.0.tar.gz (1.5 MB)\n",
      "     |████████████████████████████████| 1.5 MB 8.3 MB/s            \n",
      "\u001b[?25h  Installing build dependencies ... \u001b[?25ldone\n",
      "\u001b[?25h  Getting requirements to build wheel ... \u001b[?25ldone\n",
      "\u001b[?25h  Preparing metadata (pyproject.toml) ... \u001b[?25ldone\n",
      "\u001b[?25hRequirement already satisfied: numpy in /usr/local/lib/python3.9/site-packages (from slycot) (1.19.5)\n",
      "Building wheels for collected packages: slycot\n",
      "  Building wheel for slycot (pyproject.toml) ... \u001b[?25l|"
     ]
    }
   ],
   "source": [
    "# !pip install slycot\n",
    "# !pip install control"
   ]
  },
  {
   "cell_type": "markdown",
   "metadata": {},
   "source": [
    "## Library Usage\n",
    "\n",
    "The control systems library is designed to work with a simplified syntax where libraries are imported without the standard prefixes.  "
   ]
  },
  {
   "cell_type": "code",
   "execution_count": 1,
   "metadata": {},
   "outputs": [],
   "source": [
    "%matplotlib inline\n",
    "import numpy as np\n",
    "import seaborn as sns\n",
    "import matplotlib.pyplot as plt\n",
    "import control.matlab as control"
   ]
  },
  {
   "cell_type": "markdown",
   "metadata": {},
   "source": [
    "## Demonstration"
   ]
  },
  {
   "cell_type": "markdown",
   "metadata": {},
   "source": [
    "### Step Response of Transfer Functions\n",
    "\n",
    "The following cells demonstrate the use of two functions in the control systems library, `tf` and `step`. Suppose a signal $y(s)$ is related to an input $u(s)$ by the formula\n",
    "\n",
    "$$y(s) = \\underbrace{\\frac{4.3}{3.2s + 1}}_{G(s)} u(s)$$\n",
    "\n",
    "The transfer function\n",
    "\n",
    "$$G(s) = \\frac{4.3}{3.2 s + 1}$$\n",
    "\n",
    "is represented in the control system libary using `tf(num,den)` where `num` and `den` list the coefficients of the numerator and denominator polynomials.  "
   ]
  },
  {
   "cell_type": "code",
   "execution_count": 2,
   "metadata": {},
   "outputs": [
    {
     "name": "stdout",
     "output_type": "stream",
     "text": [
      "\n",
      "   4.3\n",
      "---------\n",
      "3.2 s + 1\n",
      "\n"
     ]
    }
   ],
   "source": [
    "G = control.tf([4.3],[3.2, 1])\n",
    "print(G)"
   ]
  },
  {
   "cell_type": "markdown",
   "metadata": {},
   "source": [
    "The step response is created and plotted as"
   ]
  },
  {
   "cell_type": "code",
   "execution_count": 3,
   "metadata": {},
   "outputs": [
    {
     "data": {
      "text/plain": [
       "Text(0.5, 1.0, 'Step Response')"
      ]
     },
     "execution_count": 3,
     "metadata": {},
     "output_type": "execute_result"
    },
    {
     "data": {
      "image/png": "[encoded data removed]",
      "text/plain": [
       "<Figure size 432x288 with 1 Axes>"
      ]
     },
     "metadata": {
      "needs_background": "light"
     },
     "output_type": "display_data"
    }
   ],
   "source": [
    "y,t = control.step(G)\n",
    "plt.plot(t,y)\n",
    "plt.xlabel('Time')\n",
    "plt.title('Step Response')"
   ]
  },
  {
   "cell_type": "markdown",
   "metadata": {},
   "source": [
    "### Transfer Functions in Series"
   ]
  },
  {
   "cell_type": "markdown",
   "metadata": {},
   "source": [
    "Models for complex systems are generally constructed by combining models of simpler elements. Consider, for example, a serial connection of two transfer functions\n",
    "\n",
    "$$ y_1(s) = G_1(s) u(s)$$\n",
    "\n",
    "$$ y_2(s) = G_2(s) y_1(s)$$\n",
    "\n",
    "which can be diagrammed as\n",
    "\n",
    "$$u(s) \\longrightarrow \\boxed{\\\\G_1(s)} \\stackrel{y_1(s)}{\\longrightarrow} \\boxed{\\\\G_2(s)} \n",
    "\\longrightarrow y_2(s)$$\n",
    "\n",
    "The serial composition of two transfer functions can be written\n",
    "\n",
    "$$y_2(s) = \\underbrace{G_2(s)G_1(s)}_{G(s)} u(s)$$\n",
    "\n",
    "where the product $G(s) = G_2(s)G_1(s)$ represents the transfer function of the combined system. In terms of a block diagram\n",
    "\n",
    "$$u(s) \\longrightarrow \\boxed{\\\\G_1(s)} \\stackrel{y_1(s)}{\\longrightarrow} \\boxed{\\\\G_2(s)} \n",
    "\\longrightarrow y_2(s) \\qquad \\implies \\qquad\n",
    "u(s) \\longrightarrow \\boxed{\\\\G_2(s)G_1(s)} \\longrightarrow y_2(s)$$\n",
    "\n",
    "The product $G(s) = G_2(s)G_1(s)$$ is computed by taking the products of the numerator and denominator polynomials, respectively.  For example, suppose\n",
    "\n",
    "$$G_1(s) = \\frac{12.3}{10 s + 1} \\text{   and   }G_2(s) = \\frac{4}{15 s + 1}$$\n",
    "\n",
    "Then\n",
    "\n",
    "\\begin{align*}\n",
    "G(s) & = G_2(s)G_1(s) \\\\\n",
    "& = \\frac{4}{15 s + 1} \\times \\frac{12.3}{10 s + 1} = \\frac{4 \\times 12.3}{(15s + 1)(10s + 1)} = \\frac{49.2}{150 s^2 + 25s + 1}\n",
    "\\end{align*}\n",
    "\n",
    "We can verify this calculation using the control systems library."
   ]
  },
  {
   "cell_type": "code",
   "execution_count": 4,
   "metadata": {},
   "outputs": [
    {
     "name": "stdout",
     "output_type": "stream",
     "text": [
      "\n",
      "       49.2\n",
      "------------------\n",
      "150 s^2 + 25 s + 1\n",
      "\n"
     ]
    },
    {
     "data": {
      "text/plain": [
       "Text(0.5, 1.0, 'Step Response of Two First Order Transfer Functions in Series')"
      ]
     },
     "execution_count": 4,
     "metadata": {},
     "output_type": "execute_result"
    },
    {
     "data": {
      "image/png": "[encoded data removed]",
      "text/plain": [
       "<Figure size 432x288 with 1 Axes>"
      ]
     },
     "metadata": {
      "needs_background": "light"
     },
     "output_type": "display_data"
    }
   ],
   "source": [
    "G1 = control.tf([12.3],[10,1])\n",
    "G2 = control.tf([4],[15,1])\n",
    "\n",
    "G = G2 * G1\n",
    "\n",
    "print(G)\n",
    "\n",
    "y,t = control.step(G)\n",
    "plt.plot(t,y)\n",
    "plt.xlabel('Time')\n",
    "plt.title('Step Response of Two First Order Transfer Functions in Series')"
   ]
  },
  {
   "cell_type": "markdown",
   "metadata": {},
   "source": [
    "### Second Order Transfer Functions\n",
    "\n",
    "The control systems library is particularly helpful when working with second and higher order transfer functions. For\n",
    "\n",
    "$$G(s) = \\frac{3}{4s^2 + s + 1}$$\n",
    "\n"
   ]
  },
  {
   "cell_type": "code",
   "execution_count": 5,
   "metadata": {},
   "outputs": [
    {
     "name": "stdout",
     "output_type": "stream",
     "text": [
      "\n",
      "      3\n",
      "-------------\n",
      "4 s^2 + s + 1\n",
      "\n"
     ]
    },
    {
     "data": {
      "text/plain": [
       "Text(0.5, 1.0, 'Response of a Second Order System')"
      ]
     },
     "execution_count": 5,
     "metadata": {},
     "output_type": "execute_result"
    },
    {
     "data": {
      "image/png": "[encoded data removed]",
      "text/plain": [
       "<Figure size 432x288 with 1 Axes>"
      ]
     },
     "metadata": {
      "needs_background": "light"
     },
     "output_type": "display_data"
    }
   ],
   "source": [
    "R = control.tf([3.],[4.,1.,1.])\n",
    "print(R)\n",
    "\n",
    "y,t = control.step(R)\n",
    "plt.plot(t,y)\n",
    "plt.xlabel('Time')\n",
    "plt.title('Response of a Second Order System')"
   ]
  },
  {
   "cell_type": "code",
   "execution_count": null,
   "metadata": {},
   "outputs": [],
   "source": []
  }
 ],
 "metadata": {
  "anaconda-cloud": {},
  "kernelspec": {
   "display_name": "Python 3 (ipykernel)",
   "language": "python",
   "name": "python3"
  },
  "language_info": {
   "codemirror_mode": {
    "name": "ipython",
    "version": 3
   },
   "file_extension": ".py",
   "mimetype": "text/x-python",
   "name": "python",
   "nbconvert_exporter": "python",
   "pygments_lexer": "ipython3",
   "version": "3.9.7"
  }
 },
 "nbformat": 4,
 "nbformat_minor": 2
}
