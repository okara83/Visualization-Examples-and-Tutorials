{
 "cells": [
  {
   "cell_type": "markdown",
   "metadata": {
    "id": "SlZow33_5LcP"
   },
   "source": [
    "# Gasoline Blending\n",
    "\n",
    "The task is to determine the most profitable blend of gasoline products from given set of refinery streams."
   ]
  },
  {
   "cell_type": "code",
   "execution_count": null,
   "metadata": {
    "colab": {
     "base_uri": "https://localhost:8080/"
    },
    "executionInfo": {
     "elapsed": 24629,
     "status": "ok",
     "timestamp": 1631146307667,
     "user": {
      "displayName": "",
      "photoUrl": "",
      "userId": ""
     },
     "user_tz": 240
    },
    "id": "UAT3SRgP5LcQ",
    "outputId": "683ee93e-34e5-4b94-d70a-f48daabc5ab5"
   },
   "outputs": [
    {
     "name": "stdout",
     "output_type": "stream",
     "text": [
      "Collecting package metadata (current_repodata.json): done\n",
      "Solving environment: - "
     ]
    }
   ],
   "source": [
    "%matplotlib inline\n",
    "\n",
    "import shutil\n",
    "import sys\n",
    "import os.path\n",
    "\n",
    "if not shutil.which(\"pyomo\"):\n",
    "    !pip install -q pyomo\n",
    "    assert(shutil.which(\"pyomo\"))\n",
    "\n",
    "if not (shutil.which(\"cbc\") or os.path.isfile(\"cbc\")):\n",
    "    if \"google.colab\" in sys.modules:\n",
    "        !apt-get install -y -qq coinor-cbc\n",
    "    else:\n",
    "        try:\n",
    "            !conda install -c conda-forge coincbc \n",
    "        except:\n",
    "            pass\n",
    "\n",
    "assert(shutil.which(\"cbc\") or os.path.isfile(\"cbc\"))\n",
    "\n",
    "import pandas as pd\n",
    "import pyomo.environ as pyomo"
   ]
  },
  {
   "cell_type": "markdown",
   "metadata": {
    "id": "CBTtE8RN5LcR"
   },
   "source": [
    "## Gasoline Product Specifications\n",
    "\n",
    "The gasoline products include regular and premium gasoline. In addition to the current price, the specifications include\n",
    "\n",
    "* **octane** the minimum road octane number.  Road octane is the computed as the average of the Research Octane Number (RON) and Motor Octane Number (MON).\n",
    "* **Reid Vapor Pressure** Upper and lower limits are specified for the Reid vapor pressure. The Reid vapor pressure is the absolute pressure exerted by the liquid at 100°F.\n",
    "* **benzene** the maximum volume percentage of benzene allowed in the final product. Benzene helps to increase octane rating, but is also a treacherous environmental contaminant.\n"
   ]
  },
  {
   "cell_type": "code",
   "execution_count": null,
   "metadata": {
    "colab": {
     "base_uri": "https://localhost:8080/"
    },
    "executionInfo": {
     "elapsed": 144,
     "status": "ok",
     "timestamp": 1631146312704,
     "user": {
      "displayName": "",
      "photoUrl": "",
      "userId": ""
     },
     "user_tz": 240
    },
    "id": "HD6Vu1Y-5LcR",
    "outputId": "74478fcd-00ef-4100-ebc7-ef651284c349"
   },
   "outputs": [],
   "source": [
    "products = {\n",
    "    'Regular'        : {'price': 2.75, 'octane': 87, 'RVPmin': 0.0, 'RVPmax': 15.0, 'benzene': 1.1},\n",
    "    'Premium'        : {'price': 2.85, 'octane': 91, 'RVPmin': 0.0, 'RVPmax': 15.0, 'benzene': 1.1},\n",
    "}\n",
    "\n",
    "print(pd.DataFrame.from_dict(products).T)"
   ]
  },
  {
   "cell_type": "markdown",
   "metadata": {
    "id": "h6y6T93A5LcS"
   },
   "source": [
    "## Stream Specifications\n",
    "\n",
    "A typical refinery produces many intermediate streams that can be incorporated in a blended gasoline product. Here we provide data on seven streams that include:\n",
    "\n",
    "* **Butane** n-butane is a C4 product stream produced from the light components of the crude being processed by the refinery. Butane is a highly volatile of gasoline.\n",
    "* **LSR** Light straight run naptha is a 90°F to 190°F cut from the crude distillation column primarily consisting of straight chain C5-C6 hydrocarbons.\n",
    "* **Isomerate** is the result of isomerizing LSR to produce branched molecules that results in higher octane number.\n",
    "* **Reformate** is result of catalytic reforming heavy straight run napthenes to produce a high octane blending component, as well by-product hydrogen used elsewhere in the refinery for hydro-treating.\n",
    "* **Reformate LB** is a is a low benzene variant of reformate.\n",
    "* **FCC Naphta** is the product of a fluidized catalytic cracking unit designed to produce gasoline blending components from long chain hydrocarbons present in the crude oil being processed by the refinery.\n",
    "* **Alkylate** The alkylation unit reacts iso-butane with low-molecular weight alkenes to produce a high octane blending component for gasoline.\n",
    "\n",
    "The stream specifications include research octane and motor octane numbers for each blending component, the Reid vapor pressure, the benzene content, cost, and availability (in gallons per day). The road octane number is computed as the average of the RON and MON."
   ]
  },
  {
   "cell_type": "code",
   "execution_count": null,
   "metadata": {
    "colab": {
     "base_uri": "https://localhost:8080/"
    },
    "executionInfo": {
     "elapsed": 152,
     "status": "ok",
     "timestamp": 1631146359027,
     "user": {
      "displayName": "",
      "photoUrl": "",
      "userId": ""
     },
     "user_tz": 240
    },
    "id": "GOaiyUlp5LcT",
    "outputId": "63351443-2112-4d59-ce01-eb4db9118807"
   },
   "outputs": [],
   "source": [
    "streams = {\n",
    "    'Butane'       : {'RON': 93.0, 'MON': 92.0, 'RVP': 54.0, 'benzene': 0.00, 'cost': 0.85, 'avail': 30000},\n",
    "    'LSR'          : {'RON': 78.0, 'MON': 76.0, 'RVP': 11.2, 'benzene': 0.73, 'cost': 2.05, 'avail': 35000},\n",
    "    'Isomerate'    : {'RON': 83.0, 'MON': 81.1, 'RVP': 13.5, 'benzene': 0.00, 'cost': 2.20, 'avail': 0},\n",
    "    'Reformate'    : {'RON':100.0, 'MON': 88.2, 'RVP':  3.2, 'benzene': 1.85, 'cost': 2.80, 'avail': 60000},\n",
    "    'Reformate LB' : {'RON': 93.7, 'MON': 84.0, 'RVP':  2.8, 'benzene': 0.12, 'cost': 2.75, 'avail': 0},\n",
    "    'FCC Naphtha'  : {'RON': 92.1, 'MON': 77.1, 'RVP':  1.4, 'benzene': 1.06, 'cost': 2.60, 'avail': 70000},\n",
    "    'Alkylate'     : {'RON': 97.3, 'MON': 95.9, 'RVP':  4.6, 'benzene': 0.00, 'cost': 2.75, 'avail': 40000},\n",
    "}\n",
    "\n",
    "# calculate road octane as (R+M)/2\n",
    "for s in streams.keys():\n",
    "    streams[s]['octane'] = (streams[s]['RON'] + streams[s]['MON'])/2\n",
    "    \n",
    "# display feed information\n",
    "print(pd.DataFrame.from_dict(streams).T)"
   ]
  },
  {
   "cell_type": "markdown",
   "metadata": {
    "id": "NPzSRsBC5LcU"
   },
   "source": [
    "## Blending Model\n",
    "\n",
    "This simplified blending model assumes the product attributes can be computed as linear volume weighted averages of the component properties. Let the decision variable $x_{s,p} \\geq 0$ be the volume, in gallons, of blending component $s \\in S$ used in the final product $p \\in P$.\n",
    "\n",
    "The objective is maximize profit, which is the difference between product revenue and stream costs. \n",
    "\n",
    "\\begin{align}\n",
    "\\mbox{profit} & = \\max_{x_{s,p}}\\left( \\sum_{p\\in P} \\mbox{Price}_p \\sum_{s\\in S} x_{s,p}\n",
    "- \\sum_{s\\in S} \\mbox{Cost}_s \\sum_{p\\in P} x_{s,p}\\right)\n",
    "\\end{align}\n",
    "or\n",
    "\\begin{align}\n",
    "\\mbox{profit} & = \\max_{x_{s,p}} \\sum_{p\\in P}  \\sum_{s\\in S} x_{s,p}\\mbox{Price}_p - \\max_{x_{s,p}} \\sum_{p\\in P}  \\sum_{s\\in S} x_{s,p}\\mbox{Cost}_s\n",
    "\\end{align}\n",
    "\n",
    "The blending constraint for octane can be written as \n",
    "\n",
    "\\begin{align}\n",
    "\\frac{\\sum_{s \\in S} x_{s,p} \\mbox{Octane}_s}{\\sum_{s \\in S} x_{s,p}} & \\geq \\mbox{Octane}_p & \\forall p \\in P\n",
    "\\end{align}\n",
    "\n",
    "where $\\mbox{Octane}_s$ refers to the octane rating of stream $s$, whereas $\\mbox{Octane}_p$ refers to the octane rating of product $p$. Multiplying through by the denominator, and consolidating terms gives\n",
    "\n",
    "\\begin{align}\n",
    "\\sum_{s \\in S} x_{s,p}\\left(\\mbox{Octane}_s - \\mbox{Octane}_p\\right) & \\geq  0 & \\forall p \\in P\n",
    "\\end{align}\n",
    "\n",
    "The same assumptions and development apply to the benzene constraint\n",
    "\n",
    "\\begin{align}\n",
    "\\sum_{s \\in S} x_{s,p}\\left(\\mbox{Benzene}_s - \\mbox{Benzene}_p\\right) & \\leq  0 & \\forall p \\in P\n",
    "\\end{align}\n",
    "\n",
    "Reid vapor pressure, however, follows a somewhat different mixing rule.  For the Reid vapor pressure we have\n",
    "\n",
    "\\begin{align}\n",
    "\\sum_{s \\in S} x_{s,p}\\left(\\mbox{RVP}_s^{1.25} - \\mbox{RVP}_{min,p}^{1.25}\\right) & \\geq  0 & \\forall p \\in P \\\\\n",
    "\\sum_{s \\in S} x_{s,p}\\left(\\mbox{RVP}_s^{1.25} - \\mbox{RVP}_{max,p}^{1.25}\\right) & \\leq  0 & \\forall p \\in P\n",
    "\\end{align}\n",
    "\n",
    "This model is implemented in the following cell."
   ]
  },
  {
   "cell_type": "code",
   "execution_count": null,
   "metadata": {
    "colab": {
     "base_uri": "https://localhost:8080/"
    },
    "executionInfo": {
     "elapsed": 330,
     "status": "ok",
     "timestamp": 1631146400280,
     "user": {
      "displayName": "",
      "photoUrl": "",
      "userId": ""
     },
     "user_tz": 240
    },
    "id": "NrY25kiq5LcV",
    "outputId": "bb4b0619-91fb-4dd5-962a-36ea7c91584e",
    "scrolled": false
   },
   "outputs": [],
   "source": [
    "import pyomo.environ as pyomo\n",
    "\n",
    "# create model\n",
    "m = pyomo.ConcreteModel()\n",
    "\n",
    "# create decision variables\n",
    "S = streams.keys()\n",
    "P = products.keys()\n",
    "m.x = pyomo.Var(S,P, domain=pyomo.NonNegativeReals)\n",
    "    \n",
    "# objective\n",
    "revenue = sum(sum(m.x[s,p]*products[p]['price'] for s in S) for p in P)\n",
    "cost = sum(sum(m.x[s,p]*streams[s]['cost'] for s in S) for p in P)\n",
    "m.profit = pyomo.Objective(expr = revenue - cost, sense=pyomo.maximize)\n",
    "\n",
    "# constraints\n",
    "m.cons = pyomo.ConstraintList()\n",
    "for s in S:\n",
    "    m.cons.add(sum(m.x[s,p] for p in P) <= streams[s]['avail'])\n",
    "for p in P:\n",
    "    m.cons.add(sum(m.x[s,p]*(streams[s]['octane'] -    products[p]['octane'])       for s in S) >= 0)\n",
    "    m.cons.add(sum(m.x[s,p]*(streams[s]['RVP']**1.25 - products[p]['RVPmin']**1.25) for s in S) >= 0)\n",
    "    m.cons.add(sum(m.x[s,p]*(streams[s]['RVP']**1.25 - products[p]['RVPmax']**1.25) for s in S) <= 0)\n",
    "    m.cons.add(sum(m.x[s,p]*(streams[s]['benzene'] -   products[p]['benzene'])      for s in S) <= 0)\n",
    "\n",
    "# solve\n",
    "solver = pyomo.SolverFactory('cbc')\n",
    "solver.solve(m)\n",
    "\n",
    "# display results\n",
    "vol = sum(m.x[s,p]() for s in S for p in P)\n",
    "print(\"Total Volume =\", round(vol, 1), \"gallons.\")\n",
    "print(\"Total Profit =\", round(m.profit(), 1), \"dollars.\")\n",
    "print(\"Profit =\", round(100*m.profit()/vol,1), \"cents per gallon.\")"
   ]
  },
  {
   "cell_type": "markdown",
   "metadata": {
    "id": "kjRg5vIf5LcW"
   },
   "source": [
    "## Display Results"
   ]
  },
  {
   "cell_type": "markdown",
   "metadata": {
    "id": "4fPqFazD5LcW"
   },
   "source": [
    "### Results for each Stream"
   ]
  },
  {
   "cell_type": "code",
   "execution_count": null,
   "metadata": {
    "colab": {
     "base_uri": "https://localhost:8080/"
    },
    "executionInfo": {
     "elapsed": 138,
     "status": "ok",
     "timestamp": 1631146415736,
     "user": {
      "displayName": "",
      "photoUrl": "",
      "userId": ""
     },
     "user_tz": 240
    },
    "id": "ttSHjaOl5LcX",
    "outputId": "e1ef2d7f-72ba-4667-d433-5f9e64cecd63"
   },
   "outputs": [],
   "source": [
    "stream_results = pd.DataFrame()\n",
    "for s in S:\n",
    "    for p in P:\n",
    "        stream_results.loc[s,p] = round(m.x[s,p](), 1)\n",
    "    stream_results.loc[s,'Total'] = round(sum(m.x[s,p]() for p in P), 1)\n",
    "    stream_results.loc[s,'Available'] = streams[s]['avail']\n",
    "    \n",
    "stream_results['Unused (Slack)'] = stream_results['Available'] - stream_results['Total']\n",
    "print(stream_results)"
   ]
  },
  {
   "cell_type": "markdown",
   "metadata": {
    "id": "KlxqC3pO5LcX"
   },
   "source": [
    "### Results for each Product"
   ]
  },
  {
   "cell_type": "code",
   "execution_count": null,
   "metadata": {
    "colab": {
     "base_uri": "https://localhost:8080/"
    },
    "executionInfo": {
     "elapsed": 133,
     "status": "ok",
     "timestamp": 1631146417334,
     "user": {
      "displayName": "",
      "photoUrl": "",
      "userId": ""
     },
     "user_tz": 240
    },
    "id": "05EE855E5LcX",
    "outputId": "9442cef2-5791-44f2-8ca4-3e37cc53dda0"
   },
   "outputs": [],
   "source": [
    "product_results = pd.DataFrame()\n",
    "for p in P:\n",
    "    product_results.loc[p,'Volume'] = round(sum(m.x[s,p]() for s in S), 1)\n",
    "    product_results.loc[p,'octane'] = round(sum(m.x[s,p]()*streams[s]['octane'] for s in S)\n",
    "                                            /product_results.loc[p,'Volume'], 1)\n",
    "    product_results.loc[p,'RVP'] = round((sum(m.x[s,p]()*streams[s]['RVP']**1.25 for s in S)\n",
    "                                            /product_results.loc[p,'Volume'])**0.8, 1)\n",
    "    product_results.loc[p,'benzene'] = round(sum(m.x[s,p]()*streams[s]['benzene'] for s in S)\n",
    "                                            /product_results.loc[p,'Volume'], 1)\n",
    "print(product_results)"
   ]
  },
  {
   "cell_type": "markdown",
   "metadata": {
    "id": "vFswmC8Z5LcY",
    "tags": [
     "exercise"
    ]
   },
   "source": [
    "## Exercise 1.\n",
    "\n",
    "The marketing team says there is an opportunity to create a mid-grade gasoline product with a road octane number of 89 that would sell for $2.82/gallon, and with all other specifications the same. Could an additional profit be created?\n",
    "\n",
    "Create a new cell (or cells) below to compute a solution to this exercise."
   ]
  },
  {
   "cell_type": "code",
   "execution_count": null,
   "metadata": {
    "colab": {
     "base_uri": "https://localhost:8080/"
    },
    "executionInfo": {
     "elapsed": 367,
     "status": "ok",
     "timestamp": 1631146455720,
     "user": {
      "displayName": "",
      "photoUrl": "",
      "userId": ""
     },
     "user_tz": 240
    },
    "id": "UsGCA5Uz5LcY",
    "outputId": "b99bb7c7-4279-4048-8edd-707aa7916c5e"
   },
   "outputs": [],
   "source": [
    "products = {\n",
    "    'Regular'        : {'price': 2.75, 'octane': 87, 'RVPmin': 0.0, 'RVPmax': 15.0, 'benzene': 1.1},\n",
    "    'Midgrade'       : {'price': 2.82, 'octane': 89, 'RVPmin': 0.0, 'RVPmax': 15.0, 'benzene': 1.1},\n",
    "    'Premium'        : {'price': 2.85, 'octane': 91, 'RVPmin': 0.0, 'RVPmax': 15.0, 'benzene': 1.1},\n",
    "}\n",
    "\n",
    "print(pd.DataFrame.from_dict(products).T)\n",
    "\n",
    "streams = {\n",
    "    'Butane'       : {'RON': 93.0, 'MON': 92.0, 'RVP': 54.0, 'benzene': 0.00, 'cost': 0.85, 'avail': 30000},\n",
    "    'LSR'          : {'RON': 78.0, 'MON': 76.0, 'RVP': 11.2, 'benzene': 0.73, 'cost': 2.05, 'avail': 35000},\n",
    "    'Isomerate'    : {'RON': 83.0, 'MON': 81.1, 'RVP': 13.5, 'benzene': 0.00, 'cost': 2.20, 'avail': 0},\n",
    "    'Reformate'    : {'RON':100.0, 'MON': 88.2, 'RVP':  3.2, 'benzene': 1.85, 'cost': 2.80, 'avail': 60000},\n",
    "    'Reformate LB' : {'RON': 93.7, 'MON': 84.0, 'RVP':  2.8, 'benzene': 0.12, 'cost': 2.75, 'avail': 0},\n",
    "    'FCC Naphtha'  : {'RON': 92.1, 'MON': 77.1, 'RVP':  1.4, 'benzene': 1.06, 'cost': 2.60, 'avail': 70000},\n",
    "    'Alkylate'     : {'RON': 97.3, 'MON': 95.9, 'RVP':  4.6, 'benzene': 0.00, 'cost': 2.75, 'avail': 40000},\n",
    "}\n",
    "\n",
    "# calculate road octane as (R+M)/2\n",
    "for s in streams.keys():\n",
    "    streams[s]['octane'] = (streams[s]['RON'] + streams[s]['MON'])/2\n",
    "    \n",
    "# display feed information\n",
    "print(pd.DataFrame.from_dict(streams).T)\n",
    "\n",
    "# create model\n",
    "m = pyomo.ConcreteModel()\n",
    "\n",
    "# create decision variables\n",
    "S = streams.keys()\n",
    "P = products.keys()\n",
    "m.x = pyomo.Var(S,P, domain=pyomo.NonNegativeReals)\n",
    "    \n",
    "# objective\n",
    "revenue = sum(sum(m.x[s,p]*products[p]['price'] for s in S) for p in P)\n",
    "cost = sum(sum(m.x[s,p]*streams[s]['cost'] for s in S) for p in P)\n",
    "m.profit = pyomo.Objective(expr = revenue - cost, sense=pyomo.maximize)\n",
    "\n",
    "# constraints\n",
    "m.cons = pyomo.ConstraintList()\n",
    "for s in S:\n",
    "    m.cons.add(sum(m.x[s,p] for p in P) <= streams[s]['avail'])\n",
    "for p in P:\n",
    "    m.cons.add(sum(m.x[s,p]*(streams[s]['octane'] -    products[p]['octane'])       for s in S) >= 0)\n",
    "    m.cons.add(sum(m.x[s,p]*(streams[s]['RVP']**1.25 - products[p]['RVPmin']**1.25) for s in S) >= 0)\n",
    "    m.cons.add(sum(m.x[s,p]*(streams[s]['RVP']**1.25 - products[p]['RVPmax']**1.25) for s in S) <= 0)\n",
    "    m.cons.add(sum(m.x[s,p]*(streams[s]['benzene'] -   products[p]['benzene'])      for s in S) <= 0)\n",
    "\n",
    "# solve\n",
    "solver = pyomo.SolverFactory('cbc')\n",
    "solver.solve(m)\n",
    "print(\"Profit = $\", round(m.profit(),2))\n",
    "\n",
    "stream_results = pd.DataFrame()\n",
    "for s in S:\n",
    "    for p in P:\n",
    "        stream_results.loc[s,p] = round(m.x[s,p](), 1)\n",
    "    stream_results.loc[s,'Total'] = round(sum(m.x[s,p]() for p in P), 1)\n",
    "    stream_results.loc[s,'Available'] = streams[s]['avail']\n",
    "    \n",
    "stream_results['Unused (Slack)'] = stream_results['Available'] - stream_results['Total']\n",
    "print(stream_results)\n",
    "\n",
    "product_results = pd.DataFrame()\n",
    "for p in P:\n",
    "    product_results.loc[p,'Volume'] = round(sum(m.x[s,p]() for s in S), 1)\n",
    "    product_results.loc[p,'octane'] = round(sum(m.x[s,p]()*streams[s]['octane'] for s in S)\n",
    "                                            /product_results.loc[p,'Volume'], 1)\n",
    "    product_results.loc[p,'RVP'] = round((sum(m.x[s,p]()*streams[s]['RVP']**1.25 for s in S)\n",
    "                                            /product_results.loc[p,'Volume'])**0.8, 1)\n",
    "    product_results.loc[p,'benzene'] = round(sum(m.x[s,p]()*streams[s]['benzene'] for s in S)\n",
    "                                            /product_results.loc[p,'Volume'], 1)\n",
    "print(product_results)\n",
    "\n",
    "vol = sum(m.x[s,p]() for s in S for p in P)\n",
    "print(\"Total Profit =\", round(m.profit(), 1), \"dollars.\")\n",
    "print(\"Total Volume =\", round(vol, 1), \"gallons.\")\n",
    "print(\"Profit =\", round(100*m.profit()/vol,1), \"cents per gallon.\")"
   ]
  },
  {
   "cell_type": "markdown",
   "metadata": {
    "id": "srdVyxza5LcZ",
    "tags": [
     "exercise"
    ]
   },
   "source": [
    "## Exercise 2.\n",
    "\n",
    "New environmental regulations have reduced the allowable benzene levels from 1.1 vol% to 0.62 vol%, and the maximum Reid vapor pressure from 15.0 to 9.0.\n",
    "\n",
    "Compared to the base case (i.e., without the midgrade product), how does this change profitability? "
   ]
  },
  {
   "cell_type": "code",
   "execution_count": null,
   "metadata": {
    "colab": {
     "base_uri": "https://localhost:8080/"
    },
    "executionInfo": {
     "elapsed": 249,
     "status": "ok",
     "timestamp": 1631146489779,
     "user": {
      "displayName": "",
      "photoUrl": "",
      "userId": ""
     },
     "user_tz": 240
    },
    "id": "K5aqngwn5LcZ",
    "outputId": "657b43be-eaaf-4f53-b236-88f4538c40ed"
   },
   "outputs": [],
   "source": [
    "products = {\n",
    "    'Regular'        : {'price': 2.75, 'octane': 87, 'RVPmin': 0.0, 'RVPmax': 9.0, 'benzene': 0.62},\n",
    "    'Premium'        : {'price': 2.85, 'octane': 91, 'RVPmin': 0.0, 'RVPmax': 9.0, 'benzene': 0.62},\n",
    "}\n",
    "\n",
    "print(pd.DataFrame.from_dict(products).T)\n",
    "\n",
    "streams = {\n",
    "    'Butane'       : {'RON': 93.0, 'MON': 92.0, 'RVP': 54.0, 'benzene': 0.00, 'cost': 0.85, 'avail': 30000},\n",
    "    'LSR'          : {'RON': 78.0, 'MON': 76.0, 'RVP': 11.2, 'benzene': 0.73, 'cost': 2.05, 'avail': 35000},\n",
    "    'Isomerate'    : {'RON': 83.0, 'MON': 81.1, 'RVP': 13.5, 'benzene': 0.00, 'cost': 2.20, 'avail': 0},\n",
    "    'Reformate'    : {'RON':100.0, 'MON': 88.2, 'RVP':  3.2, 'benzene': 1.85, 'cost': 2.80, 'avail': 60000},\n",
    "    'Reformate LB' : {'RON': 93.7, 'MON': 84.0, 'RVP':  2.8, 'benzene': 0.12, 'cost': 2.75, 'avail': 0},\n",
    "    'FCC Naphtha'  : {'RON': 92.1, 'MON': 77.1, 'RVP':  1.4, 'benzene': 1.06, 'cost': 2.60, 'avail': 70000},\n",
    "    'Alkylate'     : {'RON': 97.3, 'MON': 95.9, 'RVP':  4.6, 'benzene': 0.00, 'cost': 2.75, 'avail': 40000},\n",
    "}\n",
    "\n",
    "# calculate road octane as (R+M)/2\n",
    "for s in streams.keys():\n",
    "    streams[s]['octane'] = (streams[s]['RON'] + streams[s]['MON'])/2\n",
    "    \n",
    "# display feed information\n",
    "print(pd.DataFrame.from_dict(streams).T)\n",
    "\n",
    "# create model\n",
    "m = pyomo.ConcreteModel()\n",
    "\n",
    "# create decision variables\n",
    "S = streams.keys()\n",
    "P = products.keys()\n",
    "m.x = pyomo.Var(S,P, domain=pyomo.NonNegativeReals)\n",
    "    \n",
    "# objective\n",
    "revenue = sum(sum(m.x[s,p]*products[p]['price'] for s in S) for p in P)\n",
    "cost = sum(sum(m.x[s,p]*streams[s]['cost'] for s in S) for p in P)\n",
    "m.profit = pyomo.Objective(expr = revenue - cost, sense=pyomo.maximize)\n",
    "\n",
    "# constraints\n",
    "m.cons = pyomo.ConstraintList()\n",
    "for s in S:\n",
    "    m.cons.add(sum(m.x[s,p] for p in P) <= streams[s]['avail'])\n",
    "for p in P:\n",
    "    m.cons.add(sum(m.x[s,p]*(streams[s]['octane'] -    products[p]['octane'])       for s in S) >= 0)\n",
    "    m.cons.add(sum(m.x[s,p]*(streams[s]['RVP']**1.25 - products[p]['RVPmin']**1.25) for s in S) >= 0)\n",
    "    m.cons.add(sum(m.x[s,p]*(streams[s]['RVP']**1.25 - products[p]['RVPmax']**1.25) for s in S) <= 0)\n",
    "    m.cons.add(sum(m.x[s,p]*(streams[s]['benzene'] -   products[p]['benzene'])      for s in S) <= 0)\n",
    "\n",
    "# solve\n",
    "solver = pyomo.SolverFactory('cbc')\n",
    "solver.solve(m)\n",
    "print(\"Profit = $\", round(m.profit(),2))\n",
    "\n",
    "stream_results = pd.DataFrame()\n",
    "for s in S:\n",
    "    for p in P:\n",
    "        stream_results.loc[s,p] = round(m.x[s,p](), 1)\n",
    "    stream_results.loc[s,'Total'] = round(sum(m.x[s,p]() for p in P), 1)\n",
    "    stream_results.loc[s,'Available'] = streams[s]['avail']\n",
    "    \n",
    "stream_results['Unused (Slack)'] = stream_results['Available'] - stream_results['Total']\n",
    "print(stream_results)\n",
    "\n",
    "product_results = pd.DataFrame()\n",
    "for p in P:\n",
    "    product_results.loc[p,'Volume'] = round(sum(m.x[s,p]() for s in S), 1)\n",
    "    product_results.loc[p,'octane'] = round(sum(m.x[s,p]()*streams[s]['octane'] for s in S)\n",
    "                                            /product_results.loc[p,'Volume'], 1)\n",
    "    product_results.loc[p,'RVP'] = round((sum(m.x[s,p]()*streams[s]['RVP']**1.25 for s in S)\n",
    "                                            /product_results.loc[p,'Volume'])**0.8, 1)\n",
    "    product_results.loc[p,'benzene'] = round(sum(m.x[s,p]()*streams[s]['benzene'] for s in S)\n",
    "                                            /product_results.loc[p,'Volume'], 1)\n",
    "print(product_results)\n",
    "\n",
    "vol = sum(m.x[s,p]() for s in S for p in P)\n",
    "print(\"Total Profit =\", round(m.profit(), 1), \"dollars.\")\n",
    "print(\"Total Volume =\", round(vol, 1), \"gallons.\")\n",
    "print(\"Profit =\", round(100*m.profit()/vol,1), \"cents per gallon.\")"
   ]
  },
  {
   "cell_type": "markdown",
   "metadata": {
    "id": "cyX104G75Lca",
    "tags": [
     "exercise"
    ]
   },
   "source": [
    "## Exercise 3.\n",
    "\n",
    "Given the new product specifications in Exercise 2, let's consider using different refinery streams. In place of Reformate, the refinery could produce Reformate LB. (That is, one or the other of the two streams could be 60000 gallons per day, but not both).  Same for LSR and Reformate.  How should the refinery be operated to maximize profitability?"
   ]
  },
  {
   "cell_type": "code",
   "execution_count": null,
   "metadata": {
    "colab": {
     "base_uri": "https://localhost:8080/"
    },
    "executionInfo": {
     "elapsed": 467,
     "status": "ok",
     "timestamp": 1631146510037,
     "user": {
      "displayName": "",
      "photoUrl": "",
      "userId": ""
     },
     "user_tz": 240
    },
    "id": "YKqN0OT95Lca",
    "outputId": "2c9c1c3e-059c-4db1-8264-f274139036f5"
   },
   "outputs": [],
   "source": [
    "products = {\n",
    "    'Regular'        : {'price': 2.75, 'octane': 87, 'RVPmin': 0.0, 'RVPmax': 9.0, 'benzene': 0.62},\n",
    "    'Premium'        : {'price': 2.85, 'octane': 91, 'RVPmin': 0.0, 'RVPmax': 9.0, 'benzene': 0.62},\n",
    "}\n",
    "\n",
    "print(pd.DataFrame.from_dict(products).T)\n",
    "\n",
    "streams = {\n",
    "    'Butane'       : {'RON': 93.0, 'MON': 92.0, 'RVP': 54.0, 'benzene': 0.00, 'cost': 0.85, 'avail': 30000},\n",
    "    'LSR'          : {'RON': 78.0, 'MON': 76.0, 'RVP': 11.2, 'benzene': 0.73, 'cost': 2.05, 'avail': 35000},\n",
    "    'Isomerate'    : {'RON': 83.0, 'MON': 81.1, 'RVP': 13.5, 'benzene': 0.00, 'cost': 2.20, 'avail': 0},\n",
    "    'Reformate'    : {'RON':100.0, 'MON': 88.2, 'RVP':  3.2, 'benzene': 1.85, 'cost': 2.80, 'avail': 0},\n",
    "    'Reformate LB' : {'RON': 93.7, 'MON': 84.0, 'RVP':  2.8, 'benzene': 0.12, 'cost': 2.75, 'avail': 60000},\n",
    "    'FCC Naphtha'  : {'RON': 92.1, 'MON': 77.1, 'RVP':  1.4, 'benzene': 1.06, 'cost': 2.60, 'avail': 70000},\n",
    "    'Alkylate'     : {'RON': 97.3, 'MON': 95.9, 'RVP':  4.6, 'benzene': 0.00, 'cost': 2.75, 'avail': 40000},\n",
    "}\n",
    "\n",
    "# calculate road octane as (R+M)/2\n",
    "for s in streams.keys():\n",
    "    streams[s]['octane'] = (streams[s]['RON'] + streams[s]['MON'])/2\n",
    "    \n",
    "# display feed information\n",
    "print(pd.DataFrame.from_dict(streams).T)\n",
    "\n",
    "# create model\n",
    "m = pyomo.ConcreteModel()\n",
    "\n",
    "# create decision variables\n",
    "S = streams.keys()\n",
    "P = products.keys()\n",
    "m.x = pyomo.Var(S,P, domain=pyomo.NonNegativeReals)\n",
    "    \n",
    "# objective\n",
    "revenue = sum(sum(m.x[s,p]*products[p]['price'] for s in S) for p in P)\n",
    "cost = sum(sum(m.x[s,p]*streams[s]['cost'] for s in S) for p in P)\n",
    "m.profit = pyomo.Objective(expr = revenue - cost, sense=pyomo.maximize)\n",
    "\n",
    "# constraints\n",
    "m.cons = pyomo.ConstraintList()\n",
    "for s in S:\n",
    "    m.cons.add(sum(m.x[s,p] for p in P) <= streams[s]['avail'])\n",
    "for p in P:\n",
    "    m.cons.add(sum(m.x[s,p]*(streams[s]['octane'] -    products[p]['octane'])       for s in S) >= 0)\n",
    "    m.cons.add(sum(m.x[s,p]*(streams[s]['RVP']**1.25 - products[p]['RVPmin']**1.25) for s in S) >= 0)\n",
    "    m.cons.add(sum(m.x[s,p]*(streams[s]['RVP']**1.25 - products[p]['RVPmax']**1.25) for s in S) <= 0)\n",
    "    m.cons.add(sum(m.x[s,p]*(streams[s]['benzene'] -   products[p]['benzene'])      for s in S) <= 0)\n",
    "    \n",
    "# solve\n",
    "solver = pyomo.SolverFactory('cbc')\n",
    "solver.solve(m)\n",
    "print(\"Profit = $\", round(m.profit(),2))\n",
    "\n",
    "stream_results = pd.DataFrame()\n",
    "for s in S:\n",
    "    for p in P:\n",
    "        stream_results.loc[s,p] = round(m.x[s,p](), 1)\n",
    "    stream_results.loc[s,'Total'] = round(sum(m.x[s,p]() for p in P), 1)\n",
    "    stream_results.loc[s,'Available'] = streams[s]['avail']\n",
    "    \n",
    "stream_results['Unused (Slack)'] = stream_results['Available'] - stream_results['Total']\n",
    "print(stream_results)\n",
    "\n",
    "product_results = pd.DataFrame()\n",
    "for p in P:\n",
    "    product_results.loc[p,'Volume'] = round(sum(m.x[s,p]() for s in S), 1)\n",
    "    product_results.loc[p,'octane'] = round(sum(m.x[s,p]()*streams[s]['octane'] for s in S)\n",
    "                                            /product_results.loc[p,'Volume'], 1)\n",
    "    product_results.loc[p,'RVP'] = round((sum(m.x[s,p]()*streams[s]['RVP']**1.25 for s in S)\n",
    "                                            /product_results.loc[p,'Volume'])**0.8, 1)\n",
    "    product_results.loc[p,'benzene'] = round(sum(m.x[s,p]()*streams[s]['benzene'] for s in S)\n",
    "                                            /product_results.loc[p,'Volume'], 1)\n",
    "print(product_results)\n",
    "\n",
    "vol = sum(m.x[s,p]() for s in S for p in P)\n",
    "print(\"Total Profit =\", round(m.profit(), 1), \"dollars.\")\n",
    "print(\"Total Volume =\", round(vol, 1), \"gallons.\")\n",
    "print(\"Profit =\", round(100*m.profit()/vol,1), \"cents per gallon.\")"
   ]
  }
 ],
 "metadata": {
  "celltoolbar": "Tags",
  "colab": {
   "name": "Copy of 06.08-Gasoline-Blending.ipynb",
   "provenance": [
    {
     "file_id": "https://github.com/jckantor/CBE30338/blob/master/notebooks/06.08-Gasoline-Blending.ipynb",
     "timestamp": 1631146520813
    }
   ]
  },
  "kernelspec": {
   "display_name": "Python 3 (ipykernel)",
   "language": "python",
   "name": "python3"
  },
  "language_info": {
   "codemirror_mode": {
    "name": "ipython",
    "version": 3
   },
   "file_extension": ".py",
   "mimetype": "text/x-python",
   "name": "python",
   "nbconvert_exporter": "python",
   "pygments_lexer": "ipython3",
   "version": "3.9.7"
  }
 },
 "nbformat": 4,
 "nbformat_minor": 1
}
